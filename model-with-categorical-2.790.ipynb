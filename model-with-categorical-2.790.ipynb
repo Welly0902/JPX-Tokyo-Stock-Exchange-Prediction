{
 "cells": [
  {
   "cell_type": "markdown",
   "id": "203c5b53",
   "metadata": {
    "_cell_guid": "b1076dfc-b9ad-4769-8c92-a6c4dae69d19",
    "_uuid": "8f2839f25d086af736a60e9eeb907d3b93b6e0e5",
    "execution": {
     "iopub.execute_input": "2022-05-14T17:43:00.297958Z",
     "iopub.status.busy": "2022-05-14T17:43:00.297527Z",
     "iopub.status.idle": "2022-05-14T17:43:01.354673Z",
     "shell.execute_reply": "2022-05-14T17:43:01.353784Z",
     "shell.execute_reply.started": "2022-05-14T17:43:00.297869Z"
    },
    "papermill": {
     "duration": 0.039016,
     "end_time": "2022-05-30T20:41:45.230928",
     "exception": false,
     "start_time": "2022-05-30T20:41:45.191912",
     "status": "completed"
    },
    "tags": []
   },
   "source": [
    "JPX is hosting this competition and is supported by AI technology company AlpacaJapan Co.,Ltd.\n",
    "\n",
    "This competition will compare your models against real future returns after the training phase is complete. The competition will involve building portfolios from the stocks eligible for predictions (around 2,000 stocks). Specifically, each participant ranks the stocks from highest to lowest expected returns and is evaluated on the difference in returns between the top and bottom 200 stocks.\n",
    "\n",
    "In this notebook I will be doing some basic EDA and some feature creation to feed into high depth XGBoost decission trees."
   ]
  },
  {
   "cell_type": "code",
   "execution_count": 1,
   "id": "789171ac",
   "metadata": {
    "execution": {
     "iopub.execute_input": "2022-05-30T20:41:45.323044Z",
     "iopub.status.busy": "2022-05-30T20:41:45.322387Z",
     "iopub.status.idle": "2022-05-30T20:41:46.395475Z",
     "shell.execute_reply": "2022-05-30T20:41:46.396567Z",
     "shell.execute_reply.started": "2022-05-30T20:19:12.379994Z"
    },
    "papermill": {
     "duration": 1.126277,
     "end_time": "2022-05-30T20:41:46.396981",
     "exception": false,
     "start_time": "2022-05-30T20:41:45.270704",
     "status": "completed"
    },
    "tags": []
   },
   "outputs": [
    {
     "name": "stdout",
     "output_type": "stream",
     "text": [
      "/kaggle/input/jpx-tokyo-stock-exchange-prediction/stock_list.csv\n",
      "/kaggle/input/jpx-tokyo-stock-exchange-prediction/example_test_files/sample_submission.csv\n",
      "/kaggle/input/jpx-tokyo-stock-exchange-prediction/example_test_files/options.csv\n",
      "/kaggle/input/jpx-tokyo-stock-exchange-prediction/example_test_files/financials.csv\n",
      "/kaggle/input/jpx-tokyo-stock-exchange-prediction/example_test_files/secondary_stock_prices.csv\n",
      "/kaggle/input/jpx-tokyo-stock-exchange-prediction/example_test_files/trades.csv\n",
      "/kaggle/input/jpx-tokyo-stock-exchange-prediction/example_test_files/stock_prices.csv\n",
      "/kaggle/input/jpx-tokyo-stock-exchange-prediction/jpx_tokyo_market_prediction/competition.cpython-37m-x86_64-linux-gnu.so\n",
      "/kaggle/input/jpx-tokyo-stock-exchange-prediction/jpx_tokyo_market_prediction/__init__.py\n",
      "/kaggle/input/jpx-tokyo-stock-exchange-prediction/data_specifications/stock_fin_spec.csv\n",
      "/kaggle/input/jpx-tokyo-stock-exchange-prediction/data_specifications/trades_spec.csv\n",
      "/kaggle/input/jpx-tokyo-stock-exchange-prediction/data_specifications/stock_price_spec.csv\n",
      "/kaggle/input/jpx-tokyo-stock-exchange-prediction/data_specifications/options_spec.csv\n",
      "/kaggle/input/jpx-tokyo-stock-exchange-prediction/data_specifications/stock_list_spec.csv\n",
      "/kaggle/input/jpx-tokyo-stock-exchange-prediction/train_files/options.csv\n",
      "/kaggle/input/jpx-tokyo-stock-exchange-prediction/train_files/financials.csv\n",
      "/kaggle/input/jpx-tokyo-stock-exchange-prediction/train_files/secondary_stock_prices.csv\n",
      "/kaggle/input/jpx-tokyo-stock-exchange-prediction/train_files/trades.csv\n",
      "/kaggle/input/jpx-tokyo-stock-exchange-prediction/train_files/stock_prices.csv\n",
      "/kaggle/input/jpx-tokyo-stock-exchange-prediction/supplemental_files/options.csv\n",
      "/kaggle/input/jpx-tokyo-stock-exchange-prediction/supplemental_files/financials.csv\n",
      "/kaggle/input/jpx-tokyo-stock-exchange-prediction/supplemental_files/secondary_stock_prices.csv\n",
      "/kaggle/input/jpx-tokyo-stock-exchange-prediction/supplemental_files/trades.csv\n",
      "/kaggle/input/jpx-tokyo-stock-exchange-prediction/supplemental_files/stock_prices.csv\n"
     ]
    }
   ],
   "source": [
    "# This Python 3 environment comes with many helpful analytics libraries installed\n",
    "# It is defined by the kaggle/python Docker image: https://github.com/kaggle/docker-python\n",
    "# For example, here's several helpful packages to load\n",
    "\n",
    "import numpy as np # linear algebra\n",
    "import pandas as pd # data processing, CSV file I/O (e.g. pd.read_csv)\n",
    "\n",
    "# Input data files are available in the read-only \"../input/\" directory\n",
    "# For example, running this (by clicking run or pressing Shift+Enter) will list all files under the input directory\n",
    "\n",
    "import os\n",
    "for dirname, _, filenames in os.walk('/kaggle/input'):\n",
    "    for filename in filenames:\n",
    "        print(os.path.join(dirname, filename))\n",
    "import matplotlib.pyplot as plt\n",
    "import xgboost as xgb\n",
    "from tqdm import tqdm\n",
    "import jpx_tokyo_market_prediction\n",
    "from sklearn.model_selection import train_test_split\n",
    "import warnings; warnings.filterwarnings(\"ignore\")\n",
    "\n",
    "from sklearn.preprocessing import LabelEncoder\n",
    "label_encoder = LabelEncoder()\n",
    "import gc\n",
    "# You can write up to 20GB to the current directory (/kaggle/working/) that gets preserved as output when you create a version using \"Save & Run All\" \n",
    "# You can also write temporary files to /kaggle/temp/, but they won't be saved outside of the current session"
   ]
  },
  {
   "cell_type": "markdown",
   "id": "9bd87bed",
   "metadata": {
    "papermill": {
     "duration": 0.064289,
     "end_time": "2022-05-30T20:41:46.536285",
     "exception": false,
     "start_time": "2022-05-30T20:41:46.471996",
     "status": "completed"
    },
    "tags": []
   },
   "source": [
    "Loading the training files, suppliment files and the file contais list of all the stocks."
   ]
  },
  {
   "cell_type": "code",
   "execution_count": 2,
   "id": "4922adaf",
   "metadata": {
    "execution": {
     "iopub.execute_input": "2022-05-30T20:41:46.671522Z",
     "iopub.status.busy": "2022-05-30T20:41:46.670685Z",
     "iopub.status.idle": "2022-05-30T20:42:18.959851Z",
     "shell.execute_reply": "2022-05-30T20:42:18.959365Z",
     "shell.execute_reply.started": "2022-05-30T20:19:15.562851Z"
    },
    "papermill": {
     "duration": 32.360844,
     "end_time": "2022-05-30T20:42:18.960002",
     "exception": false,
     "start_time": "2022-05-30T20:41:46.599158",
     "status": "completed"
    },
    "tags": []
   },
   "outputs": [],
   "source": [
    "stock_list = pd.read_csv(\"../input/jpx-tokyo-stock-exchange-prediction/stock_list.csv\")\n",
    "prices = pd.read_csv(\"../input/jpx-tokyo-stock-exchange-prediction/train_files/stock_prices.csv\")\n",
    "financials = pd.read_csv(\"../input/jpx-tokyo-stock-exchange-prediction/train_files/financials.csv\")\n",
    "options = pd.read_csv(\"../input/jpx-tokyo-stock-exchange-prediction/train_files/options.csv\")\n",
    "sprices = pd.read_csv(\"../input/jpx-tokyo-stock-exchange-prediction/train_files/secondary_stock_prices.csv\")\n",
    "supplemental_prices = pd.read_csv(\"../input/jpx-tokyo-stock-exchange-prediction/supplemental_files/stock_prices.csv\")\n",
    "supplemental_sprices = pd.read_csv(\"../input/jpx-tokyo-stock-exchange-prediction/supplemental_files/secondary_stock_prices.csv\")\n",
    "testprices = pd.read_csv(\"../input/jpx-tokyo-stock-exchange-prediction/example_test_files/sample_submission.csv\")\n",
    "teststockprices = pd.read_csv(\"../input/jpx-tokyo-stock-exchange-prediction/example_test_files/stock_prices.csv\")"
   ]
  },
  {
   "cell_type": "markdown",
   "id": "fb76e225",
   "metadata": {
    "papermill": {
     "duration": 0.038316,
     "end_time": "2022-05-30T20:42:19.038641",
     "exception": false,
     "start_time": "2022-05-30T20:42:19.000325",
     "status": "completed"
    },
    "tags": []
   },
   "source": [
    "Check the basic information about the files loaded into dataframes"
   ]
  },
  {
   "cell_type": "code",
   "execution_count": 3,
   "id": "4984b4ed",
   "metadata": {
    "execution": {
     "iopub.execute_input": "2022-05-30T20:42:19.124278Z",
     "iopub.status.busy": "2022-05-30T20:42:19.123417Z",
     "iopub.status.idle": "2022-05-30T20:42:19.180911Z",
     "shell.execute_reply": "2022-05-30T20:42:19.181475Z",
     "shell.execute_reply.started": "2022-05-30T20:19:55.908516Z"
    },
    "papermill": {
     "duration": 0.10472,
     "end_time": "2022-05-30T20:42:19.181637",
     "exception": false,
     "start_time": "2022-05-30T20:42:19.076917",
     "status": "completed"
    },
    "tags": []
   },
   "outputs": [
    {
     "name": "stdout",
     "output_type": "stream",
     "text": [
      "<class 'pandas.core.frame.DataFrame'>\n",
      "RangeIndex: 195993 entries, 0 to 195992\n",
      "Data columns (total 12 columns):\n",
      " #   Column            Non-Null Count   Dtype  \n",
      "---  ------            --------------   -----  \n",
      " 0   RowId             195993 non-null  object \n",
      " 1   Date              195993 non-null  object \n",
      " 2   SecuritiesCode    195993 non-null  int64  \n",
      " 3   Open              195402 non-null  float64\n",
      " 4   High              195402 non-null  float64\n",
      " 5   Low               195402 non-null  float64\n",
      " 6   Close             195402 non-null  float64\n",
      " 7   Volume            195993 non-null  int64  \n",
      " 8   AdjustmentFactor  195993 non-null  float64\n",
      " 9   ExpectedDividend  1956 non-null    float64\n",
      " 10  SupervisionFlag   195993 non-null  bool   \n",
      " 11  Target            195989 non-null  float64\n",
      "dtypes: bool(1), float64(7), int64(2), object(2)\n",
      "memory usage: 16.6+ MB\n"
     ]
    }
   ],
   "source": [
    "supplemental_prices.info()"
   ]
  },
  {
   "cell_type": "code",
   "execution_count": 4,
   "id": "104e4c95",
   "metadata": {
    "execution": {
     "iopub.execute_input": "2022-05-30T20:42:19.281357Z",
     "iopub.status.busy": "2022-05-30T20:42:19.280588Z",
     "iopub.status.idle": "2022-05-30T20:42:19.303444Z",
     "shell.execute_reply": "2022-05-30T20:42:19.304020Z",
     "shell.execute_reply.started": "2022-05-30T20:20:02.517145Z"
    },
    "papermill": {
     "duration": 0.079964,
     "end_time": "2022-05-30T20:42:19.304182",
     "exception": false,
     "start_time": "2022-05-30T20:42:19.224218",
     "status": "completed"
    },
    "tags": []
   },
   "outputs": [
    {
     "data": {
      "text/plain": [
       "98"
      ]
     },
     "execution_count": 4,
     "metadata": {},
     "output_type": "execute_result"
    }
   ],
   "source": [
    "supplemental_prices['Date'].unique()\n",
    "len(supplemental_prices['Date'].unique())"
   ]
  },
  {
   "cell_type": "code",
   "execution_count": 5,
   "id": "f382d386",
   "metadata": {
    "execution": {
     "iopub.execute_input": "2022-05-30T20:42:19.446385Z",
     "iopub.status.busy": "2022-05-30T20:42:19.445532Z",
     "iopub.status.idle": "2022-05-30T20:42:19.458671Z",
     "shell.execute_reply": "2022-05-30T20:42:19.460001Z",
     "shell.execute_reply.started": "2022-05-30T20:20:04.140602Z"
    },
    "papermill": {
     "duration": 0.106305,
     "end_time": "2022-05-30T20:42:19.460249",
     "exception": false,
     "start_time": "2022-05-30T20:42:19.353944",
     "status": "completed"
    },
    "tags": []
   },
   "outputs": [
    {
     "name": "stdout",
     "output_type": "stream",
     "text": [
      "<class 'pandas.core.frame.DataFrame'>\n",
      "RangeIndex: 2332531 entries, 0 to 2332530\n",
      "Data columns (total 12 columns):\n",
      " #   Column            Dtype  \n",
      "---  ------            -----  \n",
      " 0   RowId             object \n",
      " 1   Date              object \n",
      " 2   SecuritiesCode    int64  \n",
      " 3   Open              float64\n",
      " 4   High              float64\n",
      " 5   Low               float64\n",
      " 6   Close             float64\n",
      " 7   Volume            int64  \n",
      " 8   AdjustmentFactor  float64\n",
      " 9   ExpectedDividend  float64\n",
      " 10  SupervisionFlag   bool   \n",
      " 11  Target            float64\n",
      "dtypes: bool(1), float64(7), int64(2), object(2)\n",
      "memory usage: 198.0+ MB\n"
     ]
    }
   ],
   "source": [
    "prices.info()"
   ]
  },
  {
   "cell_type": "code",
   "execution_count": 6,
   "id": "f68f0882",
   "metadata": {
    "execution": {
     "iopub.execute_input": "2022-05-30T20:42:19.665998Z",
     "iopub.status.busy": "2022-05-30T20:42:19.665198Z",
     "iopub.status.idle": "2022-05-30T20:42:19.865699Z",
     "shell.execute_reply": "2022-05-30T20:42:19.866804Z",
     "shell.execute_reply.started": "2022-05-30T20:20:06.469487Z"
    },
    "papermill": {
     "duration": 0.333646,
     "end_time": "2022-05-30T20:42:19.867022",
     "exception": false,
     "start_time": "2022-05-30T20:42:19.533376",
     "status": "completed"
    },
    "tags": []
   },
   "outputs": [
    {
     "data": {
      "text/plain": [
       "1202"
      ]
     },
     "execution_count": 6,
     "metadata": {},
     "output_type": "execute_result"
    }
   ],
   "source": [
    "len(prices['Date'].unique())"
   ]
  },
  {
   "cell_type": "code",
   "execution_count": 7,
   "id": "0f143e4f",
   "metadata": {
    "execution": {
     "iopub.execute_input": "2022-05-30T20:42:19.983068Z",
     "iopub.status.busy": "2022-05-30T20:42:19.982284Z",
     "iopub.status.idle": "2022-05-30T20:42:20.005763Z",
     "shell.execute_reply": "2022-05-30T20:42:20.006185Z",
     "shell.execute_reply.started": "2022-05-30T20:20:08.228870Z"
    },
    "papermill": {
     "duration": 0.070229,
     "end_time": "2022-05-30T20:42:20.006355",
     "exception": false,
     "start_time": "2022-05-30T20:42:19.936126",
     "status": "completed"
    },
    "tags": []
   },
   "outputs": [
    {
     "data": {
      "text/html": [
       "<div>\n",
       "<style scoped>\n",
       "    .dataframe tbody tr th:only-of-type {\n",
       "        vertical-align: middle;\n",
       "    }\n",
       "\n",
       "    .dataframe tbody tr th {\n",
       "        vertical-align: top;\n",
       "    }\n",
       "\n",
       "    .dataframe thead th {\n",
       "        text-align: right;\n",
       "    }\n",
       "</style>\n",
       "<table border=\"1\" class=\"dataframe\">\n",
       "  <thead>\n",
       "    <tr style=\"text-align: right;\">\n",
       "      <th></th>\n",
       "      <th>RowId</th>\n",
       "      <th>Date</th>\n",
       "      <th>SecuritiesCode</th>\n",
       "      <th>Open</th>\n",
       "      <th>High</th>\n",
       "      <th>Low</th>\n",
       "      <th>Close</th>\n",
       "      <th>Volume</th>\n",
       "      <th>AdjustmentFactor</th>\n",
       "      <th>ExpectedDividend</th>\n",
       "      <th>SupervisionFlag</th>\n",
       "      <th>Target</th>\n",
       "    </tr>\n",
       "  </thead>\n",
       "  <tbody>\n",
       "    <tr>\n",
       "      <th>441408</th>\n",
       "      <td>20171214_3540</td>\n",
       "      <td>2017-12-14</td>\n",
       "      <td>3540</td>\n",
       "      <td>NaN</td>\n",
       "      <td>NaN</td>\n",
       "      <td>NaN</td>\n",
       "      <td>NaN</td>\n",
       "      <td>0</td>\n",
       "      <td>1.0</td>\n",
       "      <td>NaN</td>\n",
       "      <td>True</td>\n",
       "      <td>1.119512</td>\n",
       "    </tr>\n",
       "  </tbody>\n",
       "</table>\n",
       "</div>"
      ],
      "text/plain": [
       "                RowId        Date  SecuritiesCode  Open  High  Low  Close  \\\n",
       "441408  20171214_3540  2017-12-14            3540   NaN   NaN  NaN    NaN   \n",
       "\n",
       "        Volume  AdjustmentFactor  ExpectedDividend  SupervisionFlag    Target  \n",
       "441408       0               1.0               NaN             True  1.119512  "
      ]
     },
     "execution_count": 7,
     "metadata": {},
     "output_type": "execute_result"
    }
   ],
   "source": [
    "prices[prices['Target'] == prices['Target'].max()]"
   ]
  },
  {
   "cell_type": "code",
   "execution_count": 8,
   "id": "e4dc345e",
   "metadata": {
    "execution": {
     "iopub.execute_input": "2022-05-30T20:42:20.096224Z",
     "iopub.status.busy": "2022-05-30T20:42:20.094736Z",
     "iopub.status.idle": "2022-05-30T20:42:20.096855Z",
     "shell.execute_reply": "2022-05-30T20:42:20.097287Z",
     "shell.execute_reply.started": "2022-05-30T20:20:10.366419Z"
    },
    "papermill": {
     "duration": 0.047973,
     "end_time": "2022-05-30T20:42:20.097410",
     "exception": false,
     "start_time": "2022-05-30T20:42:20.049437",
     "status": "completed"
    },
    "tags": []
   },
   "outputs": [],
   "source": [
    "# stock_list[stock_list['SecuritiesCode']==6541]"
   ]
  },
  {
   "cell_type": "code",
   "execution_count": 9,
   "id": "09462138",
   "metadata": {
    "execution": {
     "iopub.execute_input": "2022-05-30T20:42:20.185709Z",
     "iopub.status.busy": "2022-05-30T20:42:20.184842Z",
     "iopub.status.idle": "2022-05-30T20:42:20.188307Z",
     "shell.execute_reply": "2022-05-30T20:42:20.187832Z"
    },
    "papermill": {
     "duration": 0.049572,
     "end_time": "2022-05-30T20:42:20.188421",
     "exception": false,
     "start_time": "2022-05-30T20:42:20.138849",
     "status": "completed"
    },
    "tags": []
   },
   "outputs": [],
   "source": [
    "# prices[prices['Date']=='2017-01-04']\n",
    "# t = prices[prices['SecuritiesCode']==6541]\n",
    "# t = t.set_index(\"Date\")\n",
    "# t\n",
    "# prices.head(30)"
   ]
  },
  {
   "cell_type": "code",
   "execution_count": 10,
   "id": "dadde265",
   "metadata": {
    "execution": {
     "iopub.execute_input": "2022-05-30T20:42:20.280268Z",
     "iopub.status.busy": "2022-05-30T20:42:20.279636Z",
     "iopub.status.idle": "2022-05-30T20:42:20.283444Z",
     "shell.execute_reply": "2022-05-30T20:42:20.282924Z"
    },
    "papermill": {
     "duration": 0.052133,
     "end_time": "2022-05-30T20:42:20.283584",
     "exception": false,
     "start_time": "2022-05-30T20:42:20.231451",
     "status": "completed"
    },
    "tags": []
   },
   "outputs": [],
   "source": [
    "### # ax = t[['Date','Target']]\n",
    "# ax = t[['Volume','Target']]\n",
    "# plt = ax.plot(figsize=(20, 10))"
   ]
  },
  {
   "cell_type": "code",
   "execution_count": 11,
   "id": "0f46b19c",
   "metadata": {
    "execution": {
     "iopub.execute_input": "2022-05-30T20:42:20.375355Z",
     "iopub.status.busy": "2022-05-30T20:42:20.373630Z",
     "iopub.status.idle": "2022-05-30T20:42:20.375938Z",
     "shell.execute_reply": "2022-05-30T20:42:20.376380Z"
    },
    "papermill": {
     "duration": 0.048886,
     "end_time": "2022-05-30T20:42:20.376514",
     "exception": false,
     "start_time": "2022-05-30T20:42:20.327628",
     "status": "completed"
    },
    "tags": []
   },
   "outputs": [],
   "source": [
    "##### graph1\n",
    "\n",
    "# import matplotlib.pyplot as plt\n",
    "\n",
    "# # prices[prices['Date']=='2017-01-04']\n",
    "# t1 = prices[prices['SecuritiesCode']==6541]\n",
    "# # t = t.set_index(\"Date\")\n",
    "# # t\n",
    "\n",
    "# plt.subplot(2, 1 ,1)\n",
    "# plt.plot(t1.Date, t1.Close, 'b')\n",
    "# plt.xlabel('SEASON')\n",
    "# # plt.xticks(t.Date, rotation='vertical')\n",
    "# plt.title('Close')\n",
    "\n",
    "# plt.subplot(2, 1 ,2)\n",
    "# plt.plot(t1.Date, t1.Target, 'r')\n",
    "# plt.xlabel('SEASON')\n",
    "# # plt.xticks(t.Date, rotation='vertical')\n",
    "# plt.title('Target')\n",
    "\n",
    "# plt.subplot(2, 1 ,3)\n",
    "# plt.plot(t1.Date, t1.Volume, 'r')\n",
    "# plt.xlabel('SEASON')\n",
    "# # plt.xticks(t.Date, rotation='vertical')\n",
    "# plt.title('Volume')\n",
    "\n",
    "# plt.tight_layout() #隔開兩個圖\n",
    "# plt.show()"
   ]
  },
  {
   "cell_type": "code",
   "execution_count": 12,
   "id": "d0413b84",
   "metadata": {
    "execution": {
     "iopub.execute_input": "2022-05-30T20:42:20.464381Z",
     "iopub.status.busy": "2022-05-30T20:42:20.462888Z",
     "iopub.status.idle": "2022-05-30T20:42:20.464998Z",
     "shell.execute_reply": "2022-05-30T20:42:20.465421Z"
    },
    "papermill": {
     "duration": 0.046655,
     "end_time": "2022-05-30T20:42:20.465544",
     "exception": false,
     "start_time": "2022-05-30T20:42:20.418889",
     "status": "completed"
    },
    "tags": []
   },
   "outputs": [],
   "source": [
    "# l = prices['SecuritiesCode'].unique()\n",
    "# l[:50]"
   ]
  },
  {
   "cell_type": "code",
   "execution_count": 13,
   "id": "8d3aa78b",
   "metadata": {
    "execution": {
     "iopub.execute_input": "2022-05-30T20:42:20.550512Z",
     "iopub.status.busy": "2022-05-30T20:42:20.549004Z",
     "iopub.status.idle": "2022-05-30T20:42:20.551117Z",
     "shell.execute_reply": "2022-05-30T20:42:20.551522Z"
    },
    "papermill": {
     "duration": 0.045597,
     "end_time": "2022-05-30T20:42:20.551636",
     "exception": false,
     "start_time": "2022-05-30T20:42:20.506039",
     "status": "completed"
    },
    "tags": []
   },
   "outputs": [],
   "source": [
    "# m = prices['SecuritiesCode'].unique()[3:6]\n",
    "# stock_list[(stock_list['SecuritiesCode']== 1381) | (stock_list['SecuritiesCode']== 1407)| (stock_list['SecuritiesCode']== 137)]\n",
    "# m"
   ]
  },
  {
   "cell_type": "code",
   "execution_count": 14,
   "id": "d17919f3",
   "metadata": {
    "execution": {
     "iopub.execute_input": "2022-05-30T20:42:20.637297Z",
     "iopub.status.busy": "2022-05-30T20:42:20.636458Z",
     "iopub.status.idle": "2022-05-30T20:42:20.638239Z",
     "shell.execute_reply": "2022-05-30T20:42:20.638674Z"
    },
    "papermill": {
     "duration": 0.046187,
     "end_time": "2022-05-30T20:42:20.638799",
     "exception": false,
     "start_time": "2022-05-30T20:42:20.592612",
     "status": "completed"
    },
    "tags": []
   },
   "outputs": [],
   "source": [
    "##### graph2\n",
    "\n",
    "# for stock_code in prices['SecuritiesCode'].unique()[6:9]:\n",
    "#     plot_candle_with_target(stock_code)"
   ]
  },
  {
   "cell_type": "code",
   "execution_count": 15,
   "id": "9a641440",
   "metadata": {
    "execution": {
     "iopub.execute_input": "2022-05-30T20:42:20.725390Z",
     "iopub.status.busy": "2022-05-30T20:42:20.724457Z",
     "iopub.status.idle": "2022-05-30T20:42:20.727350Z",
     "shell.execute_reply": "2022-05-30T20:42:20.726937Z"
    },
    "papermill": {
     "duration": 0.048205,
     "end_time": "2022-05-30T20:42:20.727475",
     "exception": false,
     "start_time": "2022-05-30T20:42:20.679270",
     "status": "completed"
    },
    "tags": []
   },
   "outputs": [],
   "source": [
    "##### graph3\n",
    "\n",
    "# import matplotlib.pyplot as plt\n",
    "# t1 = prices[prices['SecuritiesCode']==1429]\n",
    "\n",
    "# fig, axs = plt.subplots(3, sharex=True,figsize=(10,10))\n",
    "# fig.suptitle('Sharing both axes')\n",
    "# axs[0].plot(t1.Date, t1.Close)\n",
    "# # plt.title('Close')\n",
    "# axs[1].plot(t1.Date, t1.Target,'r')\n",
    "# # plt.title('Target')\n",
    "# axs[2].plot(t1.Date, t1.Volume,'g')\n",
    "# # plt.title('Volume')"
   ]
  },
  {
   "cell_type": "code",
   "execution_count": 16,
   "id": "44ffd578",
   "metadata": {
    "execution": {
     "iopub.execute_input": "2022-05-30T20:42:20.814961Z",
     "iopub.status.busy": "2022-05-30T20:42:20.814170Z",
     "iopub.status.idle": "2022-05-30T20:42:20.816730Z",
     "shell.execute_reply": "2022-05-30T20:42:20.816304Z"
    },
    "papermill": {
     "duration": 0.047968,
     "end_time": "2022-05-30T20:42:20.816839",
     "exception": false,
     "start_time": "2022-05-30T20:42:20.768871",
     "status": "completed"
    },
    "tags": []
   },
   "outputs": [],
   "source": [
    "### graph function\n",
    "\n",
    "# from plotly.subplots import make_subplots\n",
    "# import plotly.graph_objects as go\n",
    "\n",
    "# def plot_candle_with_target(stock_code, prime=True):\n",
    "#     \"\"\"Plot OHLCV plot with target series.\n",
    "    \n",
    "#     Parameters:\n",
    "#         stock_code: int, code of the stock\n",
    "#         prime: bool, whether the stock to plot is prime or not\n",
    "#     \"\"\"\n",
    "#     df_ = prices.copy() if prime else prices_sec.copy()\n",
    "#     df_ = df_[df_['SecuritiesCode'] == stock_code]\n",
    "#     dates = df_['Date'].values\n",
    "#     ohlc = {\n",
    "#         'open': df_['Open'].values, \n",
    "#         'high': df_['High'].values, \n",
    "#         'low': df_['Low'].values, \n",
    "#         'close': df_['Close'].values\n",
    "#     }\n",
    "#     vol = df_['Volume'].values\n",
    "#     target = df_['Target'].values\n",
    "    \n",
    "#     fig = make_subplots(rows=3, cols=1, shared_xaxes=True, x_title='Date')\n",
    "#     fig.add_trace(go.Candlestick(x=dates, name='OHLC', **ohlc),\n",
    "#                   row=1, col=1)\n",
    "#     fig.add_trace(go.Bar(x=dates, y=vol, name='Volume'),\n",
    "#                   row=2, col=1)\n",
    "#     fig.add_trace(go.Scatter(x=dates, y=target, name='Target'),\n",
    "#                   row=3, col=1)\n",
    "#     fig.update_layout(\n",
    "#         title=f\"OHLCV Chart with Target Series (Stock {stock_code})\",\n",
    "#     )\n",
    "#     fig.update(layout_xaxis_rangeslider_visible=False)\n",
    "#     fig.show()"
   ]
  },
  {
   "cell_type": "code",
   "execution_count": 17,
   "id": "973cd48a",
   "metadata": {
    "execution": {
     "iopub.execute_input": "2022-05-30T20:42:20.903301Z",
     "iopub.status.busy": "2022-05-30T20:42:20.902756Z",
     "iopub.status.idle": "2022-05-30T20:42:20.906499Z",
     "shell.execute_reply": "2022-05-30T20:42:20.906087Z",
     "shell.execute_reply.started": "2022-05-30T20:20:26.723098Z"
    },
    "papermill": {
     "duration": 0.048627,
     "end_time": "2022-05-30T20:42:20.906617",
     "exception": false,
     "start_time": "2022-05-30T20:42:20.857990",
     "status": "completed"
    },
    "tags": []
   },
   "outputs": [],
   "source": [
    "# stock_list.info()"
   ]
  },
  {
   "cell_type": "code",
   "execution_count": 18,
   "id": "b250d117",
   "metadata": {
    "execution": {
     "iopub.execute_input": "2022-05-30T20:42:20.993825Z",
     "iopub.status.busy": "2022-05-30T20:42:20.992274Z",
     "iopub.status.idle": "2022-05-30T20:42:20.994411Z",
     "shell.execute_reply": "2022-05-30T20:42:20.994802Z"
    },
    "papermill": {
     "duration": 0.047166,
     "end_time": "2022-05-30T20:42:20.994928",
     "exception": false,
     "start_time": "2022-05-30T20:42:20.947762",
     "status": "completed"
    },
    "tags": []
   },
   "outputs": [],
   "source": [
    "# stock_list.head(2)"
   ]
  },
  {
   "cell_type": "markdown",
   "id": "9a2797d4",
   "metadata": {
    "papermill": {
     "duration": 0.042524,
     "end_time": "2022-05-30T20:42:21.078905",
     "exception": false,
     "start_time": "2022-05-30T20:42:21.036381",
     "status": "completed"
    },
    "tags": []
   },
   "source": [
    "Append the secondary prices and suppliment prices"
   ]
  },
  {
   "cell_type": "code",
   "execution_count": 19,
   "id": "893a393f",
   "metadata": {
    "execution": {
     "iopub.execute_input": "2022-05-30T20:42:21.326534Z",
     "iopub.status.busy": "2022-05-30T20:42:21.315338Z",
     "iopub.status.idle": "2022-05-30T20:42:23.612310Z",
     "shell.execute_reply": "2022-05-30T20:42:23.612751Z",
     "shell.execute_reply.started": "2022-05-30T20:20:40.807226Z"
    },
    "papermill": {
     "duration": 2.491895,
     "end_time": "2022-05-30T20:42:23.612921",
     "exception": false,
     "start_time": "2022-05-30T20:42:21.121026",
     "status": "completed"
    },
    "tags": []
   },
   "outputs": [],
   "source": [
    "prices=prices.append(sprices,ignore_index=True)\n",
    "prices=prices.append(supplemental_prices,ignore_index=True)\n",
    "prices=prices.append(supplemental_sprices,ignore_index=True)\n",
    "prices=prices.drop(['RowId','ExpectedDividend'],axis=1)\n",
    "prices=prices.dropna()"
   ]
  },
  {
   "cell_type": "code",
   "execution_count": 20,
   "id": "377140bc",
   "metadata": {
    "execution": {
     "iopub.execute_input": "2022-05-30T20:42:23.699585Z",
     "iopub.status.busy": "2022-05-30T20:42:23.698788Z",
     "iopub.status.idle": "2022-05-30T20:42:23.701304Z",
     "shell.execute_reply": "2022-05-30T20:42:23.700768Z"
    },
    "papermill": {
     "duration": 0.047087,
     "end_time": "2022-05-30T20:42:23.701434",
     "exception": false,
     "start_time": "2022-05-30T20:42:23.654347",
     "status": "completed"
    },
    "tags": []
   },
   "outputs": [],
   "source": [
    "# sprices.tail(50)\n",
    "# supplemental_sprices.tail(50)\n",
    "# stock_list[stock_list['SecuritiesCode']== 9776]"
   ]
  },
  {
   "cell_type": "code",
   "execution_count": 21,
   "id": "530e91e8",
   "metadata": {
    "execution": {
     "iopub.execute_input": "2022-05-30T20:42:23.787413Z",
     "iopub.status.busy": "2022-05-30T20:42:23.786715Z",
     "iopub.status.idle": "2022-05-30T20:42:23.788604Z",
     "shell.execute_reply": "2022-05-30T20:42:23.788960Z"
    },
    "papermill": {
     "duration": 0.046721,
     "end_time": "2022-05-30T20:42:23.789096",
     "exception": false,
     "start_time": "2022-05-30T20:42:23.742375",
     "status": "completed"
    },
    "tags": []
   },
   "outputs": [],
   "source": [
    "# prices.tail(5)"
   ]
  },
  {
   "cell_type": "code",
   "execution_count": 22,
   "id": "1873e214",
   "metadata": {
    "execution": {
     "iopub.execute_input": "2022-05-30T20:42:23.875251Z",
     "iopub.status.busy": "2022-05-30T20:42:23.874327Z",
     "iopub.status.idle": "2022-05-30T20:42:23.877751Z",
     "shell.execute_reply": "2022-05-30T20:42:23.877327Z"
    },
    "papermill": {
     "duration": 0.046949,
     "end_time": "2022-05-30T20:42:23.877850",
     "exception": false,
     "start_time": "2022-05-30T20:42:23.830901",
     "status": "completed"
    },
    "tags": []
   },
   "outputs": [],
   "source": [
    "# plt.scatter(prices['Date'],prices['Target'])"
   ]
  },
  {
   "cell_type": "markdown",
   "id": "7a6ad936",
   "metadata": {
    "papermill": {
     "duration": 0.041261,
     "end_time": "2022-05-30T20:42:23.960405",
     "exception": false,
     "start_time": "2022-05-30T20:42:23.919144",
     "status": "completed"
    },
    "tags": []
   },
   "source": [
    "Separate train and test data sets"
   ]
  },
  {
   "cell_type": "code",
   "execution_count": 23,
   "id": "4bd5e0ac",
   "metadata": {
    "execution": {
     "iopub.execute_input": "2022-05-30T20:42:24.505381Z",
     "iopub.status.busy": "2022-05-30T20:42:24.503816Z",
     "iopub.status.idle": "2022-05-30T20:42:29.644248Z",
     "shell.execute_reply": "2022-05-30T20:42:29.643321Z",
     "shell.execute_reply.started": "2022-05-30T20:20:53.111220Z"
    },
    "papermill": {
     "duration": 5.642647,
     "end_time": "2022-05-30T20:42:29.644400",
     "exception": false,
     "start_time": "2022-05-30T20:42:24.001753",
     "status": "completed"
    },
    "tags": []
   },
   "outputs": [],
   "source": [
    "prices['DateValue']=prices['Date'].str.replace('-','')\n",
    "xprices=prices[prices['DateValue']<'20220401']\n",
    "xprices=xprices.drop(['DateValue'],axis=1)\n",
    "yprices=prices[prices['DateValue']>='20220401']\n",
    "yprices=yprices.drop(['DateValue'],axis=1)"
   ]
  },
  {
   "cell_type": "code",
   "execution_count": 24,
   "id": "e8d244ac",
   "metadata": {
    "execution": {
     "iopub.execute_input": "2022-05-30T20:42:29.737691Z",
     "iopub.status.busy": "2022-05-30T20:42:29.736999Z",
     "iopub.status.idle": "2022-05-30T20:42:29.739587Z",
     "shell.execute_reply": "2022-05-30T20:42:29.740063Z",
     "shell.execute_reply.started": "2022-05-30T20:21:19.543307Z"
    },
    "papermill": {
     "duration": 0.050185,
     "end_time": "2022-05-30T20:42:29.740211",
     "exception": false,
     "start_time": "2022-05-30T20:42:29.690026",
     "status": "completed"
    },
    "tags": []
   },
   "outputs": [
    {
     "data": {
      "text/plain": [
       "(4932293, 10)"
      ]
     },
     "execution_count": 24,
     "metadata": {},
     "output_type": "execute_result"
    }
   ],
   "source": [
    "# yprices.count()\n",
    "xprices.shape"
   ]
  },
  {
   "cell_type": "code",
   "execution_count": 25,
   "id": "3cbd3156",
   "metadata": {
    "execution": {
     "iopub.execute_input": "2022-05-30T20:42:29.937686Z",
     "iopub.status.busy": "2022-05-30T20:42:29.936035Z",
     "iopub.status.idle": "2022-05-30T20:42:29.939748Z",
     "shell.execute_reply": "2022-05-30T20:42:29.939304Z",
     "shell.execute_reply.started": "2022-05-30T20:21:21.594707Z"
    },
    "papermill": {
     "duration": 0.156583,
     "end_time": "2022-05-30T20:42:29.939865",
     "exception": false,
     "start_time": "2022-05-30T20:42:29.783282",
     "status": "completed"
    },
    "tags": []
   },
   "outputs": [
    {
     "data": {
      "text/plain": [
       "156"
      ]
     },
     "execution_count": 25,
     "metadata": {},
     "output_type": "execute_result"
    }
   ],
   "source": [
    "gc.collect()"
   ]
  },
  {
   "cell_type": "markdown",
   "id": "cee871db",
   "metadata": {
    "papermill": {
     "duration": 0.043843,
     "end_time": "2022-05-30T20:42:30.026496",
     "exception": false,
     "start_time": "2022-05-30T20:42:29.982653",
     "status": "completed"
    },
    "tags": []
   },
   "source": [
    "pop the target values into another dataframe"
   ]
  },
  {
   "cell_type": "code",
   "execution_count": 26,
   "id": "35abcf61",
   "metadata": {
    "execution": {
     "iopub.execute_input": "2022-05-30T20:42:30.118991Z",
     "iopub.status.busy": "2022-05-30T20:42:30.118171Z",
     "iopub.status.idle": "2022-05-30T20:42:30.120258Z",
     "shell.execute_reply": "2022-05-30T20:42:30.120661Z",
     "shell.execute_reply.started": "2022-05-30T20:21:25.137154Z"
    },
    "papermill": {
     "duration": 0.050176,
     "end_time": "2022-05-30T20:42:30.120784",
     "exception": false,
     "start_time": "2022-05-30T20:42:30.070608",
     "status": "completed"
    },
    "tags": []
   },
   "outputs": [],
   "source": [
    "y_train=xprices.pop('Target')\n",
    "y_test=yprices.pop('Target')\n",
    "X_train=xprices\n",
    "X_test=yprices"
   ]
  },
  {
   "cell_type": "code",
   "execution_count": 27,
   "id": "6ad8db2a",
   "metadata": {
    "execution": {
     "iopub.execute_input": "2022-05-30T20:42:30.208371Z",
     "iopub.status.busy": "2022-05-30T20:42:30.207731Z",
     "iopub.status.idle": "2022-05-30T20:42:30.210382Z",
     "shell.execute_reply": "2022-05-30T20:42:30.209927Z"
    },
    "papermill": {
     "duration": 0.048115,
     "end_time": "2022-05-30T20:42:30.210487",
     "exception": false,
     "start_time": "2022-05-30T20:42:30.162372",
     "status": "completed"
    },
    "tags": []
   },
   "outputs": [],
   "source": [
    "# X_train.head(30)"
   ]
  },
  {
   "cell_type": "code",
   "execution_count": 28,
   "id": "c72cfbce",
   "metadata": {
    "execution": {
     "iopub.execute_input": "2022-05-30T20:42:30.299027Z",
     "iopub.status.busy": "2022-05-30T20:42:30.298314Z",
     "iopub.status.idle": "2022-05-30T20:42:30.300645Z",
     "shell.execute_reply": "2022-05-30T20:42:30.300234Z"
    },
    "papermill": {
     "duration": 0.047697,
     "end_time": "2022-05-30T20:42:30.300741",
     "exception": false,
     "start_time": "2022-05-30T20:42:30.253044",
     "status": "completed"
    },
    "tags": []
   },
   "outputs": [],
   "source": [
    "# tst = X_train[:20000].copy()\n",
    "# for code in tst['SecuritiesCode'].unique():\n",
    "    \n",
    "#     tst2=tst[tst['SecuritiesCode']==code].copy()\n",
    "#     tst2['MA5'] = tst2.Close.rolling(5, min_periods=1).mean()\n",
    "#     tst2['MA10'] = tst2.Close.rolling(10, min_periods=1).mean()\n",
    "#     print(tst2)\n",
    "\n",
    "\n",
    "# len(tst['SecuritiesCode'].unique())\n",
    "# tst[tst['SecuritiesCode'] == 1301]\n",
    "# tst"
   ]
  },
  {
   "cell_type": "code",
   "execution_count": 29,
   "id": "59dbe320",
   "metadata": {
    "execution": {
     "iopub.execute_input": "2022-05-30T20:42:30.441649Z",
     "iopub.status.busy": "2022-05-30T20:42:30.440759Z",
     "iopub.status.idle": "2022-05-30T20:42:30.638864Z",
     "shell.execute_reply": "2022-05-30T20:42:30.639843Z",
     "shell.execute_reply.started": "2022-05-30T20:21:29.316668Z"
    },
    "papermill": {
     "duration": 0.289082,
     "end_time": "2022-05-30T20:42:30.640067",
     "exception": false,
     "start_time": "2022-05-30T20:42:30.350985",
     "status": "completed"
    },
    "tags": []
   },
   "outputs": [],
   "source": [
    "del prices\n",
    "del xprices\n",
    "del yprices"
   ]
  },
  {
   "cell_type": "markdown",
   "id": "dd6ba2c3",
   "metadata": {
    "papermill": {
     "duration": 0.075222,
     "end_time": "2022-05-30T20:42:30.790381",
     "exception": false,
     "start_time": "2022-05-30T20:42:30.715159",
     "status": "completed"
    },
    "tags": []
   },
   "source": [
    "feature engineering"
   ]
  },
  {
   "cell_type": "code",
   "execution_count": 30,
   "id": "715e65da",
   "metadata": {
    "execution": {
     "iopub.execute_input": "2022-05-30T20:42:30.947309Z",
     "iopub.status.busy": "2022-05-30T20:42:30.946439Z",
     "iopub.status.idle": "2022-05-30T20:42:30.948378Z",
     "shell.execute_reply": "2022-05-30T20:42:30.948855Z",
     "shell.execute_reply.started": "2022-05-30T20:21:32.226884Z"
    },
    "papermill": {
     "duration": 0.085321,
     "end_time": "2022-05-30T20:42:30.948990",
     "exception": false,
     "start_time": "2022-05-30T20:42:30.863669",
     "status": "completed"
    },
    "tags": []
   },
   "outputs": [],
   "source": [
    "from sklearn.preprocessing import LabelEncoder\n",
    "from sklearn.preprocessing import OneHotEncoder\n",
    "\n",
    "def featuring(train):\n",
    "    train1 = train.copy()\n",
    "    dfa=pd.DataFrame()\n",
    "    for code in train1['SecuritiesCode'].unique():\n",
    "        df=train1[train1['SecuritiesCode']==code].copy()\n",
    "        \n",
    "        df=df.sort_values(by=['Date'], ascending=True)\n",
    "#         print(df)\n",
    "#         print(\"--\")\n",
    "        \n",
    "        df['RA_5'] = df.Close.rolling(5, min_periods=1).mean()\n",
    "        df['RA_10'] = df.Close.rolling(10, min_periods=1).mean()\n",
    "        df['RA_20'] = df.Close.rolling(20, min_periods=1).mean()\n",
    "#         df['RA_60'] = df.Close.rolling(60, min_periods=1).mean()\n",
    "        \n",
    "#         df['RA_5_per'] = (df['Close']-df['RA_5'])/df['RA_5']\n",
    "#         df['RA_10_per'] = (df['Close']-df['RA_10'])/df['RA_10']\n",
    "#         df['RA_20_per'] = (df['Close']-df['RA_20'])/df['RA_20']\n",
    "#         df['RA_60_per'] = (df['Close']-df['RA_60'])/df['RA_60']\n",
    "        \n",
    "        conditions1 = [\n",
    "            ((df['RA_5'] > df['RA_10']) & (df['RA_10'] > df['RA_20'])),\n",
    "            ((df['RA_5'] <= df['RA_10']) | (df['RA_10'] <= df['RA_20']))\n",
    "        ]\n",
    "\n",
    "        conditions2 = [\n",
    "            ((df['RA_5'] < df['RA_10']) & (df['RA_10'] < df['RA_20'])),\n",
    "            ((df['RA_5'] >= df['RA_10']) | (df['RA_10'] >= df['RA_20']))\n",
    "        ]\n",
    "        \n",
    "        # create a list of the values we want to assign for each condition\n",
    "        values1 = [1, 0]\n",
    "        values2 = [1, 0]\n",
    "\n",
    "        # create a new column and use np.select to assign values to it using our lists as arguments\n",
    "        df['5_10_20_long'] = np.select(conditions1, values1)\n",
    "        df['5_10_20_short'] = np.select(conditions2, values2)\n",
    "        \n",
    "#         print(df)\n",
    "#         df['RA_60'] = df.Close.rolling(15, min_periods=1).mean()\n",
    "        #df['RA_80'] = df.Close.rolling(20, min_periods=1).mean()\n",
    "        #df['RA_100'] = df.Close.rolling(30, min_periods=1).mean()\n",
    "        dfa=dfa.append(df)\n",
    "        \n",
    "#     print(dfa)\n",
    "    \n",
    "    dfa['year']=pd.to_numeric(dfa['Date'].str[0:4]).astype(float)\n",
    "    dfa['month']=pd.to_numeric(dfa['Date'].str[5:7]).astype(float)\n",
    "    dfa['day']=pd.to_numeric(dfa['Date'].str[8:10]).astype(float)\n",
    "    dfa['delta']=pd.to_numeric(dfa['High']-dfa['Low']).astype(float)\n",
    "    dfa['change']=pd.to_numeric(dfa['Close']-dfa['Open']).astype(float)\n",
    "    \n",
    "    dfa['avg_price'] = (dfa['Open']+dfa['High']+dfa['Low']+dfa['Close'])/4\n",
    "    dfa['vol_amount'] = dfa['Volume']*dfa['avg_price']\n",
    "    dfa['BOP'] = (dfa['Open']-dfa['Close'])/(dfa['High']-dfa['Low'])\n",
    "    dfa['wp'] = (dfa['Open']+dfa['High']+dfa['Low'])/3\n",
    "    dfa['TR'] = dfa['High'] - dfa['Low']\n",
    "    dfa['OC'] = dfa['Open'] * dfa['Close']\n",
    "    dfa['HL'] = dfa['High'] * dfa['Low']\n",
    "    dfa['logC'] = np.log(dfa['Close']+1)\n",
    "    dfa['OHLCstd'] = dfa[['Open','Close','High','Low']].std(axis=1)\n",
    "    dfa['OHLCskew'] = dfa[['Open','Close','High','Low']].skew(axis=1)\n",
    "    dfa['OHLCkur'] = dfa[['Open','Close','High','Low']].kurtosis(axis=1)\n",
    "    \n",
    "    dfa['Cpos'] = (dfa['Close']-dfa['Low'])/(dfa['High']-dfa['Low']) -0.5\n",
    "    dfa['bsforce'] = dfa['Cpos'] * dfa['Volume']\n",
    "    dfa['Opos'] = (dfa['Open']-dfa['Low'])/(dfa['High']-dfa['Low']) -0.5\n",
    "    \n",
    "\n",
    "    \n",
    "    \n",
    "#     dfa['Tstd'] = dfa['Target'].std(axis=1)\n",
    "#     dfa['Tskew'] =dfa['Target'].skew(axis=1)\n",
    "#     dfa['Tkur'] = dfa['Target'].kurtosis(axis=1)\n",
    "    \n",
    "    \n",
    "    dfa=dfa[['Date','SecuritiesCode','delta','change','RA_5','RA_10','RA_20','year','month','day','avg_price','vol_amount','BOP','wp',\n",
    "             'TR', 'OC', 'HL', 'logC',\n",
    "       'OHLCstd', 'OHLCskew', 'OHLCkur', 'Cpos', 'bsforce', 'Opos'\n",
    "#              ,'RA_5_per','RA_10_per','RA_20_per','RA_60_per']]\n",
    "              ,'5_10_20_long','5_10_20_short']]\n",
    "#     dfa=dfa[['Date','SecuritiesCode','delta','change','RA_5','RA_10','RA_20','RA_60','year','month','day','RA_5_per','RA_10_per','RA_20_per','RA_60_per']]\n",
    "\n",
    "#     'Tstd','Tskew','Tkur'\n",
    "\n",
    "#     dfa=dfa.join(stock_list[['17SectorCode','17SectorName']],how='left',on='SecuritiesCode',rsuffix='b')\n",
    "\n",
    "    dfa=dfa.join(stock_list['17SectorCode'],how='left',on='SecuritiesCode',rsuffix='b')\n",
    "    dfa['17SectorCode'] = dfa['17SectorCode'].replace(\"-\",\"0\")\n",
    "    dfa['17SectorCode'] = pd.to_numeric(dfa['17SectorCode'])\n",
    "    dfa['17SectorCode'] = dfa['17SectorCode'].fillna(0)\n",
    "\n",
    "#     dfa=dfa.drop(['SecuritiesCodeb','Name', 'NewMarketSegment','33SectorCode','33SectorName','17SectorCode','17SectorName','NewIndexSeriesSizeCode', 'NewIndexSeriesSize','TradeDate','Closeb','Universe0'],axis=1)\n",
    "    \n",
    "    train1=train1.merge(dfa,how='left',on=['Date','SecuritiesCode'],suffixes=('', 'b')).set_axis(train.index)\n",
    "    train1=train1.drop(['Date'],axis=1)\n",
    "\n",
    "    \n",
    "    \n",
    "    \n",
    "    \n",
    "    \n",
    "    \n",
    "    \n",
    "    \n",
    "#     l = train1.columns.tolist()\n",
    "    \n",
    "#     ### integer mapping using LabelEncoder\n",
    "#     label_encoder = LabelEncoder()\n",
    "#     integer_encoded = label_encoder.fit_transform(train1['17SectorCode'])\n",
    "# #     print(integer_encoded)\n",
    "#     integer_encoded = integer_encoded.reshape(len(integer_encoded), 1)\n",
    "\n",
    "#     ### One hot encoding\n",
    "#     onehot_encoder = OneHotEncoder(sparse=False)\n",
    "#     onehot_encoded = onehot_encoder.fit_transform(integer_encoded)\n",
    "# #     encoder_df = pd.DataFrame(encoder.fit_transform(df[['team']]).toarray())\n",
    "#     encoder_df = pd.DataFrame(onehot_encoded)\n",
    "#     train1 = train1.join(encoder_df)\n",
    "    \n",
    "   \n",
    "    \n",
    "#     c = stock_list['17SectorCode'].unique()\n",
    "#     c.sort()\n",
    "# #     train.columns = l.extend(c)\n",
    "#     l.extend(c)\n",
    "#     print(l)\n",
    "#     train1.columns = l\n",
    "    \n",
    "#     train1.drop(['33SectorCode', '33SectorName'],axis = 1)\n",
    "    \n",
    "    \n",
    "    \n",
    "    \n",
    "#     print(onehot_encoded)\n",
    "#     pd.DataFrame(data_str_ohe)\n",
    "    #train=train.merge(stock_list, how='inner',on='SecuritiesCode',suffixes=('', 'b')).set_axis(train.index)\n",
    "    #train=train.drop(['EffectiveDate','Name','33SectorName','17SectorName','NewIndexSeriesSize','TradeDate','Closeb'],axis=1)\n",
    "    \n",
    "    #dfa=dfa.drop(['SecuritiesCodeb','Name', 'NewMarketSegment','33SectorCode','33SectorName','17SectorCode','17SectorName','NewIndexSeriesSizeCode', 'NewIndexSeriesSize',\n",
    "    #   'TradeDate','Closeb','Universe0'],axis=1)\n",
    "    #dfa['Section']=label_encoder.fit_transform(dfa['Section/Products'])\n",
    "    #dfa=dfa.drop(['Section/Products'],axis=1)\n",
    "    #dfa.sort_index(inplace=True)\n",
    "    return train1"
   ]
  },
  {
   "cell_type": "code",
   "execution_count": 31,
   "id": "266a41c8",
   "metadata": {
    "execution": {
     "iopub.execute_input": "2022-05-30T20:42:31.037172Z",
     "iopub.status.busy": "2022-05-30T20:42:31.036417Z",
     "iopub.status.idle": "2022-05-30T20:42:31.038372Z",
     "shell.execute_reply": "2022-05-30T20:42:31.038745Z",
     "shell.execute_reply.started": "2022-05-30T20:21:38.151504Z"
    },
    "papermill": {
     "duration": 0.047956,
     "end_time": "2022-05-30T20:42:31.038866",
     "exception": false,
     "start_time": "2022-05-30T20:42:30.990910",
     "status": "completed"
    },
    "tags": []
   },
   "outputs": [],
   "source": [
    "# s = featuring(X_train[:2000])\n",
    "\n",
    "# # s[s['33SectorCode']==\"-\"]\n",
    "# s.tail(30)\n",
    "# # s['33SectorCode'].unique()"
   ]
  },
  {
   "cell_type": "code",
   "execution_count": 32,
   "id": "1600c65b",
   "metadata": {
    "execution": {
     "iopub.execute_input": "2022-05-30T20:42:31.127421Z",
     "iopub.status.busy": "2022-05-30T20:42:31.126715Z",
     "iopub.status.idle": "2022-05-30T20:42:31.128700Z",
     "shell.execute_reply": "2022-05-30T20:42:31.129078Z",
     "shell.execute_reply.started": "2022-05-30T20:22:19.205974Z"
    },
    "papermill": {
     "duration": 0.047497,
     "end_time": "2022-05-30T20:42:31.129207",
     "exception": false,
     "start_time": "2022-05-30T20:42:31.081710",
     "status": "completed"
    },
    "tags": []
   },
   "outputs": [],
   "source": [
    "# s[['17SectorCode', '17SectorName', '-', '1', '10', '11', '12', '13', '14', '15', '16', '17', '2', '3', '4', '5', '6', '7', '8', '9']]\n",
    "\n",
    "# s.dtypes\n",
    "# s.shape"
   ]
  },
  {
   "cell_type": "code",
   "execution_count": 33,
   "id": "2b27bc36",
   "metadata": {
    "execution": {
     "iopub.execute_input": "2022-05-30T20:42:31.222535Z",
     "iopub.status.busy": "2022-05-30T20:42:31.221701Z",
     "iopub.status.idle": "2022-05-30T20:42:31.224036Z",
     "shell.execute_reply": "2022-05-30T20:42:31.223549Z"
    },
    "papermill": {
     "duration": 0.050529,
     "end_time": "2022-05-30T20:42:31.224168",
     "exception": false,
     "start_time": "2022-05-30T20:42:31.173639",
     "status": "completed"
    },
    "tags": []
   },
   "outputs": [],
   "source": [
    "# s[['RA_5','RA_10','RA_20','RA_60','RA_5_per','RA_10_per','RA_20_per','RA_60_per','5_10_20_long','5_10_20_short']].tail(50)\n",
    "# s.tail(50)\n",
    "# s2 = s[['RA_5','RA_10','RA_20','RA_60','RA_5_per','RA_10_per','RA_20_per','RA_60_per','5_10_20_long','5_10_20_short']]\n",
    "# s2[s2['5_10_20_long']==1]\n",
    "# s2[s2['5_10_20_short']==1]\n",
    "# s2"
   ]
  },
  {
   "cell_type": "code",
   "execution_count": 34,
   "id": "bfad5939",
   "metadata": {
    "execution": {
     "iopub.execute_input": "2022-05-30T20:42:31.316130Z",
     "iopub.status.busy": "2022-05-30T20:42:31.315318Z",
     "iopub.status.idle": "2022-05-30T20:42:31.317028Z",
     "shell.execute_reply": "2022-05-30T20:42:31.317592Z"
    },
    "papermill": {
     "duration": 0.049983,
     "end_time": "2022-05-30T20:42:31.317716",
     "exception": false,
     "start_time": "2022-05-30T20:42:31.267733",
     "status": "completed"
    },
    "tags": []
   },
   "outputs": [],
   "source": [
    "# s.columns.tolist()\n",
    "# stock_list['17SectorCode'][1]"
   ]
  },
  {
   "cell_type": "code",
   "execution_count": 35,
   "id": "61866712",
   "metadata": {
    "execution": {
     "iopub.execute_input": "2022-05-30T20:42:31.414911Z",
     "iopub.status.busy": "2022-05-30T20:42:31.413929Z",
     "iopub.status.idle": "2022-05-30T20:42:31.416491Z",
     "shell.execute_reply": "2022-05-30T20:42:31.415882Z"
    },
    "papermill": {
     "duration": 0.054967,
     "end_time": "2022-05-30T20:42:31.416617",
     "exception": false,
     "start_time": "2022-05-30T20:42:31.361650",
     "status": "completed"
    },
    "tags": []
   },
   "outputs": [],
   "source": [
    "# d = s['33SectorCode'].unique()\n",
    "# d.sort()\n",
    "# d\n",
    "\n",
    "# c = stock_list['33SectorCode'].unique()\n",
    "# c.sort()\n",
    "# c\n",
    "               \n",
    "# stock_list[['17SectorCode','17SectorName']]"
   ]
  },
  {
   "cell_type": "code",
   "execution_count": 36,
   "id": "67465437",
   "metadata": {
    "execution": {
     "iopub.execute_input": "2022-05-30T20:42:31.521487Z",
     "iopub.status.busy": "2022-05-30T20:42:31.520489Z",
     "iopub.status.idle": "2022-05-30T20:42:31.522999Z",
     "shell.execute_reply": "2022-05-30T20:42:31.522429Z"
    },
    "papermill": {
     "duration": 0.056132,
     "end_time": "2022-05-30T20:42:31.523150",
     "exception": false,
     "start_time": "2022-05-30T20:42:31.467018",
     "status": "completed"
    },
    "tags": []
   },
   "outputs": [],
   "source": [
    "# stock_list[stock_list['17SectorCode']==\"16\"]\n",
    "# stock_list[stock_list['SecuritiesCode']==2109]"
   ]
  },
  {
   "cell_type": "code",
   "execution_count": 37,
   "id": "794a48d0",
   "metadata": {
    "execution": {
     "iopub.execute_input": "2022-05-30T20:42:31.672105Z",
     "iopub.status.busy": "2022-05-30T20:42:31.671025Z",
     "iopub.status.idle": "2022-05-30T20:52:40.629432Z",
     "shell.execute_reply": "2022-05-30T20:52:40.629881Z",
     "shell.execute_reply.started": "2022-05-30T20:22:34.425990Z"
    },
    "papermill": {
     "duration": 609.059283,
     "end_time": "2022-05-30T20:52:40.630043",
     "exception": false,
     "start_time": "2022-05-30T20:42:31.570760",
     "status": "completed"
    },
    "tags": []
   },
   "outputs": [
    {
     "data": {
      "text/plain": [
       "19"
      ]
     },
     "execution_count": 37,
     "metadata": {},
     "output_type": "execute_result"
    }
   ],
   "source": [
    "X_train=featuring(X_train)\n",
    "X_test=featuring(X_test)\n",
    "gc.collect()"
   ]
  },
  {
   "cell_type": "code",
   "execution_count": 38,
   "id": "65fd6fb3",
   "metadata": {
    "execution": {
     "iopub.execute_input": "2022-05-30T20:52:40.721355Z",
     "iopub.status.busy": "2022-05-30T20:52:40.720567Z",
     "iopub.status.idle": "2022-05-30T20:52:40.722908Z",
     "shell.execute_reply": "2022-05-30T20:52:40.722508Z"
    },
    "papermill": {
     "duration": 0.049179,
     "end_time": "2022-05-30T20:52:40.723019",
     "exception": false,
     "start_time": "2022-05-30T20:52:40.673840",
     "status": "completed"
    },
    "tags": []
   },
   "outputs": [],
   "source": [
    "# X_train.tail(30)\n",
    "# X_test[200:1000]\n",
    "# X_train.drop('17SectorCode')\n",
    "# X_train.drop('17SectorName')\n",
    "\n",
    "\n",
    "# X_train1 = X_train.drop(['17SectorCode','17SectorName'],axis=1)\n",
    "# X_test1 = X_test.drop(['17SectorCode','17SectorName'],axis=1)"
   ]
  },
  {
   "cell_type": "markdown",
   "id": "ec85d794",
   "metadata": {
    "papermill": {
     "duration": 0.043193,
     "end_time": "2022-05-30T20:52:40.809705",
     "exception": false,
     "start_time": "2022-05-30T20:52:40.766512",
     "status": "completed"
    },
    "tags": []
   },
   "source": [
    "XGBoost regressor"
   ]
  },
  {
   "cell_type": "code",
   "execution_count": 39,
   "id": "9b86344f",
   "metadata": {
    "execution": {
     "iopub.execute_input": "2022-05-30T20:52:40.902302Z",
     "iopub.status.busy": "2022-05-30T20:52:40.901410Z",
     "iopub.status.idle": "2022-05-30T20:52:40.903764Z",
     "shell.execute_reply": "2022-05-30T20:52:40.903261Z"
    },
    "papermill": {
     "duration": 0.049754,
     "end_time": "2022-05-30T20:52:40.903875",
     "exception": false,
     "start_time": "2022-05-30T20:52:40.854121",
     "status": "completed"
    },
    "tags": []
   },
   "outputs": [],
   "source": [
    "# X_train1.dtypes"
   ]
  },
  {
   "cell_type": "code",
   "execution_count": 40,
   "id": "ac2e59fa",
   "metadata": {
    "execution": {
     "iopub.execute_input": "2022-05-30T20:52:40.995216Z",
     "iopub.status.busy": "2022-05-30T20:52:40.994395Z",
     "iopub.status.idle": "2022-05-30T20:58:23.011648Z",
     "shell.execute_reply": "2022-05-30T20:58:23.012096Z",
     "shell.execute_reply.started": "2022-05-30T20:32:07.395557Z"
    },
    "papermill": {
     "duration": 342.064594,
     "end_time": "2022-05-30T20:58:23.012257",
     "exception": false,
     "start_time": "2022-05-30T20:52:40.947663",
     "status": "completed"
    },
    "tags": []
   },
   "outputs": [
    {
     "name": "stdout",
     "output_type": "stream",
     "text": [
      "[0]\tvalidation_0-rmse:0.49705\n",
      "[1]\tvalidation_0-rmse:0.49212\n",
      "[2]\tvalidation_0-rmse:0.48723\n",
      "[3]\tvalidation_0-rmse:0.48239\n",
      "[4]\tvalidation_0-rmse:0.47760\n",
      "[5]\tvalidation_0-rmse:0.47285\n",
      "[6]\tvalidation_0-rmse:0.46816\n",
      "[7]\tvalidation_0-rmse:0.46351\n",
      "[8]\tvalidation_0-rmse:0.45891\n",
      "[9]\tvalidation_0-rmse:0.45436\n",
      "[10]\tvalidation_0-rmse:0.44986\n",
      "[11]\tvalidation_0-rmse:0.44540\n",
      "[12]\tvalidation_0-rmse:0.44098\n",
      "[13]\tvalidation_0-rmse:0.43661\n",
      "[14]\tvalidation_0-rmse:0.43229\n",
      "[15]\tvalidation_0-rmse:0.42801\n",
      "[16]\tvalidation_0-rmse:0.42377\n",
      "[17]\tvalidation_0-rmse:0.41957\n",
      "[18]\tvalidation_0-rmse:0.41541\n",
      "[19]\tvalidation_0-rmse:0.41129\n",
      "[20]\tvalidation_0-rmse:0.40721\n",
      "[21]\tvalidation_0-rmse:0.40317\n",
      "[22]\tvalidation_0-rmse:0.39917\n",
      "[23]\tvalidation_0-rmse:0.39522\n",
      "[24]\tvalidation_0-rmse:0.39131\n",
      "[25]\tvalidation_0-rmse:0.38744\n",
      "[26]\tvalidation_0-rmse:0.38361\n",
      "[27]\tvalidation_0-rmse:0.37981\n",
      "[28]\tvalidation_0-rmse:0.37605\n",
      "[29]\tvalidation_0-rmse:0.37234\n",
      "[30]\tvalidation_0-rmse:0.36866\n",
      "[31]\tvalidation_0-rmse:0.36501\n",
      "[32]\tvalidation_0-rmse:0.36140\n",
      "[33]\tvalidation_0-rmse:0.35781\n",
      "[34]\tvalidation_0-rmse:0.35429\n",
      "[35]\tvalidation_0-rmse:0.35078\n",
      "[36]\tvalidation_0-rmse:0.34729\n",
      "[37]\tvalidation_0-rmse:0.34385\n",
      "[38]\tvalidation_0-rmse:0.34045\n",
      "[39]\tvalidation_0-rmse:0.33708\n",
      "[40]\tvalidation_0-rmse:0.33374\n",
      "[41]\tvalidation_0-rmse:0.33044\n",
      "[42]\tvalidation_0-rmse:0.32718\n",
      "[43]\tvalidation_0-rmse:0.32394\n",
      "[44]\tvalidation_0-rmse:0.32075\n",
      "[45]\tvalidation_0-rmse:0.31759\n",
      "[46]\tvalidation_0-rmse:0.31444\n",
      "[47]\tvalidation_0-rmse:0.31134\n",
      "[48]\tvalidation_0-rmse:0.30826\n",
      "[49]\tvalidation_0-rmse:0.30520\n",
      "[50]\tvalidation_0-rmse:0.30219\n",
      "[51]\tvalidation_0-rmse:0.29920\n",
      "[52]\tvalidation_0-rmse:0.29625\n",
      "[53]\tvalidation_0-rmse:0.29334\n",
      "[54]\tvalidation_0-rmse:0.29045\n",
      "[55]\tvalidation_0-rmse:0.28758\n",
      "[56]\tvalidation_0-rmse:0.28475\n",
      "[57]\tvalidation_0-rmse:0.28195\n",
      "[58]\tvalidation_0-rmse:0.27916\n",
      "[59]\tvalidation_0-rmse:0.27641\n",
      "[60]\tvalidation_0-rmse:0.27368\n",
      "[61]\tvalidation_0-rmse:0.27098\n",
      "[62]\tvalidation_0-rmse:0.26832\n",
      "[63]\tvalidation_0-rmse:0.26568\n",
      "[64]\tvalidation_0-rmse:0.26307\n",
      "[65]\tvalidation_0-rmse:0.26047\n",
      "[66]\tvalidation_0-rmse:0.25791\n",
      "[67]\tvalidation_0-rmse:0.25537\n",
      "[68]\tvalidation_0-rmse:0.25286\n",
      "[69]\tvalidation_0-rmse:0.25037\n",
      "[70]\tvalidation_0-rmse:0.24790\n",
      "[71]\tvalidation_0-rmse:0.24546\n",
      "[72]\tvalidation_0-rmse:0.24305\n",
      "[73]\tvalidation_0-rmse:0.24066\n",
      "[74]\tvalidation_0-rmse:0.23830\n",
      "[75]\tvalidation_0-rmse:0.23597\n",
      "[76]\tvalidation_0-rmse:0.23365\n",
      "[77]\tvalidation_0-rmse:0.23135\n",
      "[78]\tvalidation_0-rmse:0.22908\n",
      "[79]\tvalidation_0-rmse:0.22683\n",
      "[80]\tvalidation_0-rmse:0.22462\n",
      "[81]\tvalidation_0-rmse:0.22241\n",
      "[82]\tvalidation_0-rmse:0.22023\n",
      "[83]\tvalidation_0-rmse:0.21808\n",
      "[84]\tvalidation_0-rmse:0.21594\n",
      "[85]\tvalidation_0-rmse:0.21383\n",
      "[86]\tvalidation_0-rmse:0.21174\n",
      "[87]\tvalidation_0-rmse:0.20967\n",
      "[88]\tvalidation_0-rmse:0.20762\n",
      "[89]\tvalidation_0-rmse:0.20559\n",
      "[90]\tvalidation_0-rmse:0.20358\n",
      "[91]\tvalidation_0-rmse:0.20158\n",
      "[92]\tvalidation_0-rmse:0.19962\n",
      "[93]\tvalidation_0-rmse:0.19767\n",
      "[94]\tvalidation_0-rmse:0.19574\n",
      "[95]\tvalidation_0-rmse:0.19384\n",
      "[96]\tvalidation_0-rmse:0.19195\n",
      "[97]\tvalidation_0-rmse:0.19009\n",
      "[98]\tvalidation_0-rmse:0.18823\n",
      "[99]\tvalidation_0-rmse:0.18639\n",
      "[100]\tvalidation_0-rmse:0.18457\n",
      "[101]\tvalidation_0-rmse:0.18278\n",
      "[102]\tvalidation_0-rmse:0.18101\n",
      "[103]\tvalidation_0-rmse:0.17925\n",
      "[104]\tvalidation_0-rmse:0.17750\n",
      "[105]\tvalidation_0-rmse:0.17578\n",
      "[106]\tvalidation_0-rmse:0.17406\n",
      "[107]\tvalidation_0-rmse:0.17236\n",
      "[108]\tvalidation_0-rmse:0.17071\n",
      "[109]\tvalidation_0-rmse:0.16906\n",
      "[110]\tvalidation_0-rmse:0.16742\n",
      "[111]\tvalidation_0-rmse:0.16581\n",
      "[112]\tvalidation_0-rmse:0.16421\n",
      "[113]\tvalidation_0-rmse:0.16262\n",
      "[114]\tvalidation_0-rmse:0.16106\n",
      "[115]\tvalidation_0-rmse:0.15949\n",
      "[116]\tvalidation_0-rmse:0.15794\n",
      "[117]\tvalidation_0-rmse:0.15641\n",
      "[118]\tvalidation_0-rmse:0.15490\n",
      "[119]\tvalidation_0-rmse:0.15340\n",
      "[120]\tvalidation_0-rmse:0.15193\n",
      "[121]\tvalidation_0-rmse:0.15047\n",
      "[122]\tvalidation_0-rmse:0.14902\n",
      "[123]\tvalidation_0-rmse:0.14757\n",
      "[124]\tvalidation_0-rmse:0.14615\n",
      "[125]\tvalidation_0-rmse:0.14474\n",
      "[126]\tvalidation_0-rmse:0.14334\n",
      "[127]\tvalidation_0-rmse:0.14196\n",
      "[128]\tvalidation_0-rmse:0.14061\n",
      "[129]\tvalidation_0-rmse:0.13926\n",
      "[130]\tvalidation_0-rmse:0.13792\n",
      "[131]\tvalidation_0-rmse:0.13660\n",
      "[132]\tvalidation_0-rmse:0.13529\n",
      "[133]\tvalidation_0-rmse:0.13400\n",
      "[134]\tvalidation_0-rmse:0.13273\n",
      "[135]\tvalidation_0-rmse:0.13146\n",
      "[136]\tvalidation_0-rmse:0.13022\n",
      "[137]\tvalidation_0-rmse:0.12900\n",
      "[138]\tvalidation_0-rmse:0.12776\n",
      "[139]\tvalidation_0-rmse:0.12656\n",
      "[140]\tvalidation_0-rmse:0.12537\n",
      "[141]\tvalidation_0-rmse:0.12417\n",
      "[142]\tvalidation_0-rmse:0.12300\n",
      "[143]\tvalidation_0-rmse:0.12183\n",
      "[144]\tvalidation_0-rmse:0.12068\n",
      "[145]\tvalidation_0-rmse:0.11953\n",
      "[146]\tvalidation_0-rmse:0.11841\n",
      "[147]\tvalidation_0-rmse:0.11729\n",
      "[148]\tvalidation_0-rmse:0.11618\n",
      "[149]\tvalidation_0-rmse:0.11509\n",
      "[150]\tvalidation_0-rmse:0.11401\n",
      "[151]\tvalidation_0-rmse:0.11294\n",
      "[152]\tvalidation_0-rmse:0.11187\n",
      "[153]\tvalidation_0-rmse:0.11083\n",
      "[154]\tvalidation_0-rmse:0.10979\n",
      "[155]\tvalidation_0-rmse:0.10876\n",
      "[156]\tvalidation_0-rmse:0.10777\n",
      "[157]\tvalidation_0-rmse:0.10676\n",
      "[158]\tvalidation_0-rmse:0.10576\n",
      "[159]\tvalidation_0-rmse:0.10477\n",
      "[160]\tvalidation_0-rmse:0.10380\n",
      "[161]\tvalidation_0-rmse:0.10283\n",
      "[162]\tvalidation_0-rmse:0.10187\n",
      "[163]\tvalidation_0-rmse:0.10094\n",
      "[164]\tvalidation_0-rmse:0.10000\n",
      "[165]\tvalidation_0-rmse:0.09908\n",
      "[166]\tvalidation_0-rmse:0.09818\n",
      "[167]\tvalidation_0-rmse:0.09727\n",
      "[168]\tvalidation_0-rmse:0.09638\n",
      "[169]\tvalidation_0-rmse:0.09551\n",
      "[170]\tvalidation_0-rmse:0.09463\n",
      "[171]\tvalidation_0-rmse:0.09376\n",
      "[172]\tvalidation_0-rmse:0.09290\n",
      "[173]\tvalidation_0-rmse:0.09205\n",
      "[174]\tvalidation_0-rmse:0.09121\n",
      "[175]\tvalidation_0-rmse:0.09036\n",
      "[176]\tvalidation_0-rmse:0.08954\n",
      "[177]\tvalidation_0-rmse:0.08872\n",
      "[178]\tvalidation_0-rmse:0.08791\n",
      "[179]\tvalidation_0-rmse:0.08712\n",
      "[180]\tvalidation_0-rmse:0.08633\n",
      "[181]\tvalidation_0-rmse:0.08556\n",
      "[182]\tvalidation_0-rmse:0.08479\n",
      "[183]\tvalidation_0-rmse:0.08403\n",
      "[184]\tvalidation_0-rmse:0.08328\n",
      "[185]\tvalidation_0-rmse:0.08255\n",
      "[186]\tvalidation_0-rmse:0.08180\n",
      "[187]\tvalidation_0-rmse:0.08107\n",
      "[188]\tvalidation_0-rmse:0.08036\n",
      "[189]\tvalidation_0-rmse:0.07965\n",
      "[190]\tvalidation_0-rmse:0.07895\n",
      "[191]\tvalidation_0-rmse:0.07825\n",
      "[192]\tvalidation_0-rmse:0.07756\n",
      "[193]\tvalidation_0-rmse:0.07687\n",
      "[194]\tvalidation_0-rmse:0.07620\n",
      "[195]\tvalidation_0-rmse:0.07553\n",
      "[196]\tvalidation_0-rmse:0.07488\n",
      "[197]\tvalidation_0-rmse:0.07422\n",
      "[198]\tvalidation_0-rmse:0.07358\n",
      "[199]\tvalidation_0-rmse:0.07294\n",
      "[200]\tvalidation_0-rmse:0.07231\n",
      "[201]\tvalidation_0-rmse:0.07168\n",
      "[202]\tvalidation_0-rmse:0.07106\n",
      "[203]\tvalidation_0-rmse:0.07045\n",
      "[204]\tvalidation_0-rmse:0.06985\n",
      "[205]\tvalidation_0-rmse:0.06925\n",
      "[206]\tvalidation_0-rmse:0.06865\n",
      "[207]\tvalidation_0-rmse:0.06806\n",
      "[208]\tvalidation_0-rmse:0.06748\n",
      "[209]\tvalidation_0-rmse:0.06691\n",
      "[210]\tvalidation_0-rmse:0.06635\n",
      "[211]\tvalidation_0-rmse:0.06579\n",
      "[212]\tvalidation_0-rmse:0.06524\n",
      "[213]\tvalidation_0-rmse:0.06469\n",
      "[214]\tvalidation_0-rmse:0.06415\n",
      "[215]\tvalidation_0-rmse:0.06362\n",
      "[216]\tvalidation_0-rmse:0.06309\n",
      "[217]\tvalidation_0-rmse:0.06256\n",
      "[218]\tvalidation_0-rmse:0.06204\n",
      "[219]\tvalidation_0-rmse:0.06153\n",
      "[220]\tvalidation_0-rmse:0.06102\n",
      "[221]\tvalidation_0-rmse:0.06052\n",
      "[222]\tvalidation_0-rmse:0.06003\n",
      "[223]\tvalidation_0-rmse:0.05954\n",
      "[224]\tvalidation_0-rmse:0.05906\n",
      "[225]\tvalidation_0-rmse:0.05859\n",
      "[226]\tvalidation_0-rmse:0.05812\n",
      "[227]\tvalidation_0-rmse:0.05766\n",
      "[228]\tvalidation_0-rmse:0.05720\n",
      "[229]\tvalidation_0-rmse:0.05675\n",
      "[230]\tvalidation_0-rmse:0.05630\n",
      "[231]\tvalidation_0-rmse:0.05585\n",
      "[232]\tvalidation_0-rmse:0.05542\n",
      "[233]\tvalidation_0-rmse:0.05498\n",
      "[234]\tvalidation_0-rmse:0.05456\n",
      "[235]\tvalidation_0-rmse:0.05414\n",
      "[236]\tvalidation_0-rmse:0.05373\n",
      "[237]\tvalidation_0-rmse:0.05332\n",
      "[238]\tvalidation_0-rmse:0.05291\n",
      "[239]\tvalidation_0-rmse:0.05251\n",
      "[240]\tvalidation_0-rmse:0.05211\n",
      "[241]\tvalidation_0-rmse:0.05171\n",
      "[242]\tvalidation_0-rmse:0.05132\n",
      "[243]\tvalidation_0-rmse:0.05094\n",
      "[244]\tvalidation_0-rmse:0.05058\n",
      "[245]\tvalidation_0-rmse:0.05020\n",
      "[246]\tvalidation_0-rmse:0.04985\n",
      "[247]\tvalidation_0-rmse:0.04948\n",
      "[248]\tvalidation_0-rmse:0.04912\n",
      "[249]\tvalidation_0-rmse:0.04876\n",
      "[250]\tvalidation_0-rmse:0.04841\n",
      "[251]\tvalidation_0-rmse:0.04806\n",
      "[252]\tvalidation_0-rmse:0.04772\n",
      "[253]\tvalidation_0-rmse:0.04738\n",
      "[254]\tvalidation_0-rmse:0.04704\n",
      "[255]\tvalidation_0-rmse:0.04671\n",
      "[256]\tvalidation_0-rmse:0.04639\n",
      "[257]\tvalidation_0-rmse:0.04607\n",
      "[258]\tvalidation_0-rmse:0.04575\n",
      "[259]\tvalidation_0-rmse:0.04543\n",
      "[260]\tvalidation_0-rmse:0.04511\n",
      "[261]\tvalidation_0-rmse:0.04480\n",
      "[262]\tvalidation_0-rmse:0.04450\n",
      "[263]\tvalidation_0-rmse:0.04420\n",
      "[264]\tvalidation_0-rmse:0.04391\n",
      "[265]\tvalidation_0-rmse:0.04362\n",
      "[266]\tvalidation_0-rmse:0.04333\n",
      "[267]\tvalidation_0-rmse:0.04304\n",
      "[268]\tvalidation_0-rmse:0.04276\n",
      "[269]\tvalidation_0-rmse:0.04249\n",
      "[270]\tvalidation_0-rmse:0.04221\n",
      "[271]\tvalidation_0-rmse:0.04194\n",
      "[272]\tvalidation_0-rmse:0.04167\n",
      "[273]\tvalidation_0-rmse:0.04141\n",
      "[274]\tvalidation_0-rmse:0.04115\n",
      "[275]\tvalidation_0-rmse:0.04089\n",
      "[276]\tvalidation_0-rmse:0.04063\n",
      "[277]\tvalidation_0-rmse:0.04040\n",
      "[278]\tvalidation_0-rmse:0.04015\n",
      "[279]\tvalidation_0-rmse:0.03991\n",
      "[280]\tvalidation_0-rmse:0.03966\n",
      "[281]\tvalidation_0-rmse:0.03943\n",
      "[282]\tvalidation_0-rmse:0.03919\n",
      "[283]\tvalidation_0-rmse:0.03896\n",
      "[284]\tvalidation_0-rmse:0.03873\n",
      "[285]\tvalidation_0-rmse:0.03851\n",
      "[286]\tvalidation_0-rmse:0.03829\n",
      "[287]\tvalidation_0-rmse:0.03807\n",
      "[288]\tvalidation_0-rmse:0.03786\n",
      "[289]\tvalidation_0-rmse:0.03764\n",
      "[290]\tvalidation_0-rmse:0.03743\n",
      "[291]\tvalidation_0-rmse:0.03723\n",
      "[292]\tvalidation_0-rmse:0.03702\n",
      "[293]\tvalidation_0-rmse:0.03682\n",
      "[294]\tvalidation_0-rmse:0.03662\n",
      "[295]\tvalidation_0-rmse:0.03643\n",
      "[296]\tvalidation_0-rmse:0.03624\n",
      "[297]\tvalidation_0-rmse:0.03605\n",
      "[298]\tvalidation_0-rmse:0.03586\n",
      "[299]\tvalidation_0-rmse:0.03568\n",
      "[300]\tvalidation_0-rmse:0.03550\n",
      "[301]\tvalidation_0-rmse:0.03532\n",
      "[302]\tvalidation_0-rmse:0.03514\n",
      "[303]\tvalidation_0-rmse:0.03497\n",
      "[304]\tvalidation_0-rmse:0.03480\n",
      "[305]\tvalidation_0-rmse:0.03463\n",
      "[306]\tvalidation_0-rmse:0.03446\n",
      "[307]\tvalidation_0-rmse:0.03429\n",
      "[308]\tvalidation_0-rmse:0.03413\n",
      "[309]\tvalidation_0-rmse:0.03397\n",
      "[310]\tvalidation_0-rmse:0.03381\n",
      "[311]\tvalidation_0-rmse:0.03366\n",
      "[312]\tvalidation_0-rmse:0.03351\n",
      "[313]\tvalidation_0-rmse:0.03336\n",
      "[314]\tvalidation_0-rmse:0.03321\n",
      "[315]\tvalidation_0-rmse:0.03307\n",
      "[316]\tvalidation_0-rmse:0.03292\n",
      "[317]\tvalidation_0-rmse:0.03278\n",
      "[318]\tvalidation_0-rmse:0.03264\n",
      "[319]\tvalidation_0-rmse:0.03251\n",
      "[320]\tvalidation_0-rmse:0.03237\n",
      "[321]\tvalidation_0-rmse:0.03223\n",
      "[322]\tvalidation_0-rmse:0.03210\n",
      "[323]\tvalidation_0-rmse:0.03197\n",
      "[324]\tvalidation_0-rmse:0.03184\n",
      "[325]\tvalidation_0-rmse:0.03172\n",
      "[326]\tvalidation_0-rmse:0.03160\n",
      "[327]\tvalidation_0-rmse:0.03147\n",
      "[328]\tvalidation_0-rmse:0.03135\n",
      "[329]\tvalidation_0-rmse:0.03123\n",
      "[330]\tvalidation_0-rmse:0.03112\n",
      "[331]\tvalidation_0-rmse:0.03100\n",
      "[332]\tvalidation_0-rmse:0.03089\n",
      "[333]\tvalidation_0-rmse:0.03078\n",
      "[334]\tvalidation_0-rmse:0.03067\n",
      "[335]\tvalidation_0-rmse:0.03056\n",
      "[336]\tvalidation_0-rmse:0.03045\n",
      "[337]\tvalidation_0-rmse:0.03034\n",
      "[338]\tvalidation_0-rmse:0.03024\n",
      "[339]\tvalidation_0-rmse:0.03013\n",
      "[340]\tvalidation_0-rmse:0.03003\n",
      "[341]\tvalidation_0-rmse:0.02994\n",
      "[342]\tvalidation_0-rmse:0.02984\n",
      "[343]\tvalidation_0-rmse:0.02974\n",
      "[344]\tvalidation_0-rmse:0.02965\n",
      "[345]\tvalidation_0-rmse:0.02956\n",
      "[346]\tvalidation_0-rmse:0.02947\n",
      "[347]\tvalidation_0-rmse:0.02938\n",
      "[348]\tvalidation_0-rmse:0.02929\n",
      "[349]\tvalidation_0-rmse:0.02920\n",
      "[350]\tvalidation_0-rmse:0.02912\n",
      "[351]\tvalidation_0-rmse:0.02903\n",
      "[352]\tvalidation_0-rmse:0.02895\n",
      "[353]\tvalidation_0-rmse:0.02887\n",
      "[354]\tvalidation_0-rmse:0.02879\n",
      "[355]\tvalidation_0-rmse:0.02872\n",
      "[356]\tvalidation_0-rmse:0.02864\n",
      "[357]\tvalidation_0-rmse:0.02856\n",
      "[358]\tvalidation_0-rmse:0.02849\n",
      "[359]\tvalidation_0-rmse:0.02841\n",
      "[360]\tvalidation_0-rmse:0.02834\n",
      "[361]\tvalidation_0-rmse:0.02827\n",
      "[362]\tvalidation_0-rmse:0.02820\n",
      "[363]\tvalidation_0-rmse:0.02813\n",
      "[364]\tvalidation_0-rmse:0.02806\n",
      "[365]\tvalidation_0-rmse:0.02800\n",
      "[366]\tvalidation_0-rmse:0.02793\n",
      "[367]\tvalidation_0-rmse:0.02787\n",
      "[368]\tvalidation_0-rmse:0.02780\n",
      "[369]\tvalidation_0-rmse:0.02774\n",
      "[370]\tvalidation_0-rmse:0.02768\n",
      "[371]\tvalidation_0-rmse:0.02763\n",
      "[372]\tvalidation_0-rmse:0.02757\n",
      "[373]\tvalidation_0-rmse:0.02751\n",
      "[374]\tvalidation_0-rmse:0.02745\n",
      "[375]\tvalidation_0-rmse:0.02739\n",
      "[376]\tvalidation_0-rmse:0.02734\n",
      "[377]\tvalidation_0-rmse:0.02728\n",
      "[378]\tvalidation_0-rmse:0.02723\n",
      "[379]\tvalidation_0-rmse:0.02717\n",
      "[380]\tvalidation_0-rmse:0.02712\n",
      "[381]\tvalidation_0-rmse:0.02707\n",
      "[382]\tvalidation_0-rmse:0.02702\n",
      "[383]\tvalidation_0-rmse:0.02696\n",
      "[384]\tvalidation_0-rmse:0.02692\n",
      "[385]\tvalidation_0-rmse:0.02687\n",
      "[386]\tvalidation_0-rmse:0.02683\n",
      "[387]\tvalidation_0-rmse:0.02678\n",
      "[388]\tvalidation_0-rmse:0.02673\n",
      "[389]\tvalidation_0-rmse:0.02669\n",
      "[390]\tvalidation_0-rmse:0.02664\n",
      "[391]\tvalidation_0-rmse:0.02660\n",
      "[392]\tvalidation_0-rmse:0.02656\n",
      "[393]\tvalidation_0-rmse:0.02651\n",
      "[394]\tvalidation_0-rmse:0.02647\n",
      "[395]\tvalidation_0-rmse:0.02643\n",
      "[396]\tvalidation_0-rmse:0.02639\n",
      "[397]\tvalidation_0-rmse:0.02635\n",
      "[398]\tvalidation_0-rmse:0.02632\n",
      "[399]\tvalidation_0-rmse:0.02628\n",
      "[400]\tvalidation_0-rmse:0.02624\n",
      "[401]\tvalidation_0-rmse:0.02621\n",
      "[402]\tvalidation_0-rmse:0.02617\n",
      "[403]\tvalidation_0-rmse:0.02613\n",
      "[404]\tvalidation_0-rmse:0.02610\n",
      "[405]\tvalidation_0-rmse:0.02606\n",
      "[406]\tvalidation_0-rmse:0.02603\n",
      "[407]\tvalidation_0-rmse:0.02599\n",
      "[408]\tvalidation_0-rmse:0.02596\n",
      "[409]\tvalidation_0-rmse:0.02593\n",
      "[410]\tvalidation_0-rmse:0.02590\n",
      "[411]\tvalidation_0-rmse:0.02587\n",
      "[412]\tvalidation_0-rmse:0.02584\n",
      "[413]\tvalidation_0-rmse:0.02581\n",
      "[414]\tvalidation_0-rmse:0.02578\n",
      "[415]\tvalidation_0-rmse:0.02575\n",
      "[416]\tvalidation_0-rmse:0.02572\n",
      "[417]\tvalidation_0-rmse:0.02569\n",
      "[418]\tvalidation_0-rmse:0.02567\n",
      "[419]\tvalidation_0-rmse:0.02564\n",
      "[420]\tvalidation_0-rmse:0.02561\n",
      "[421]\tvalidation_0-rmse:0.02559\n",
      "[422]\tvalidation_0-rmse:0.02556\n",
      "[423]\tvalidation_0-rmse:0.02553\n",
      "[424]\tvalidation_0-rmse:0.02551\n",
      "[425]\tvalidation_0-rmse:0.02548\n",
      "[426]\tvalidation_0-rmse:0.02546\n",
      "[427]\tvalidation_0-rmse:0.02544\n",
      "[428]\tvalidation_0-rmse:0.02541\n",
      "[429]\tvalidation_0-rmse:0.02539\n",
      "[430]\tvalidation_0-rmse:0.02537\n",
      "[431]\tvalidation_0-rmse:0.02534\n",
      "[432]\tvalidation_0-rmse:0.02532\n",
      "[433]\tvalidation_0-rmse:0.02530\n",
      "[434]\tvalidation_0-rmse:0.02528\n",
      "[435]\tvalidation_0-rmse:0.02526\n",
      "[436]\tvalidation_0-rmse:0.02524\n",
      "[437]\tvalidation_0-rmse:0.02522\n",
      "[438]\tvalidation_0-rmse:0.02520\n",
      "[439]\tvalidation_0-rmse:0.02518\n",
      "[440]\tvalidation_0-rmse:0.02516\n",
      "[441]\tvalidation_0-rmse:0.02514\n",
      "[442]\tvalidation_0-rmse:0.02512\n",
      "[443]\tvalidation_0-rmse:0.02510\n",
      "[444]\tvalidation_0-rmse:0.02509\n",
      "[445]\tvalidation_0-rmse:0.02508\n",
      "[446]\tvalidation_0-rmse:0.02506\n",
      "[447]\tvalidation_0-rmse:0.02504\n",
      "[448]\tvalidation_0-rmse:0.02503\n",
      "[449]\tvalidation_0-rmse:0.02501\n",
      "[450]\tvalidation_0-rmse:0.02499\n",
      "[451]\tvalidation_0-rmse:0.02498\n",
      "[452]\tvalidation_0-rmse:0.02496\n",
      "[453]\tvalidation_0-rmse:0.02495\n",
      "[454]\tvalidation_0-rmse:0.02493\n",
      "[455]\tvalidation_0-rmse:0.02492\n",
      "[456]\tvalidation_0-rmse:0.02490\n",
      "[457]\tvalidation_0-rmse:0.02489\n",
      "[458]\tvalidation_0-rmse:0.02487\n",
      "[459]\tvalidation_0-rmse:0.02486\n",
      "[460]\tvalidation_0-rmse:0.02484\n",
      "[461]\tvalidation_0-rmse:0.02483\n",
      "[462]\tvalidation_0-rmse:0.02482\n",
      "[463]\tvalidation_0-rmse:0.02481\n",
      "[464]\tvalidation_0-rmse:0.02480\n",
      "[465]\tvalidation_0-rmse:0.02479\n",
      "[466]\tvalidation_0-rmse:0.02478\n",
      "[467]\tvalidation_0-rmse:0.02476\n",
      "[468]\tvalidation_0-rmse:0.02475\n",
      "[469]\tvalidation_0-rmse:0.02474\n",
      "[470]\tvalidation_0-rmse:0.02473\n",
      "[471]\tvalidation_0-rmse:0.02471\n",
      "[472]\tvalidation_0-rmse:0.02470\n",
      "[473]\tvalidation_0-rmse:0.02469\n",
      "[474]\tvalidation_0-rmse:0.02468\n",
      "[475]\tvalidation_0-rmse:0.02467\n",
      "[476]\tvalidation_0-rmse:0.02466\n",
      "[477]\tvalidation_0-rmse:0.02465\n",
      "[478]\tvalidation_0-rmse:0.02464\n",
      "[479]\tvalidation_0-rmse:0.02463\n",
      "[480]\tvalidation_0-rmse:0.02462\n",
      "[481]\tvalidation_0-rmse:0.02461\n",
      "[482]\tvalidation_0-rmse:0.02460\n",
      "[483]\tvalidation_0-rmse:0.02460\n",
      "[484]\tvalidation_0-rmse:0.02459\n",
      "[485]\tvalidation_0-rmse:0.02458\n",
      "[486]\tvalidation_0-rmse:0.02457\n",
      "[487]\tvalidation_0-rmse:0.02456\n",
      "[488]\tvalidation_0-rmse:0.02455\n",
      "[489]\tvalidation_0-rmse:0.02454\n",
      "[490]\tvalidation_0-rmse:0.02453\n",
      "[491]\tvalidation_0-rmse:0.02453\n",
      "[492]\tvalidation_0-rmse:0.02452\n",
      "[493]\tvalidation_0-rmse:0.02451\n",
      "[494]\tvalidation_0-rmse:0.02450\n",
      "[495]\tvalidation_0-rmse:0.02449\n",
      "[496]\tvalidation_0-rmse:0.02449\n",
      "[497]\tvalidation_0-rmse:0.02448\n",
      "[498]\tvalidation_0-rmse:0.02447\n",
      "[499]\tvalidation_0-rmse:0.02447\n",
      "[500]\tvalidation_0-rmse:0.02446\n",
      "[501]\tvalidation_0-rmse:0.02445\n",
      "[502]\tvalidation_0-rmse:0.02445\n",
      "[503]\tvalidation_0-rmse:0.02444\n",
      "[504]\tvalidation_0-rmse:0.02443\n",
      "[505]\tvalidation_0-rmse:0.02443\n",
      "[506]\tvalidation_0-rmse:0.02442\n",
      "[507]\tvalidation_0-rmse:0.02441\n",
      "[508]\tvalidation_0-rmse:0.02441\n",
      "[509]\tvalidation_0-rmse:0.02440\n",
      "[510]\tvalidation_0-rmse:0.02440\n",
      "[511]\tvalidation_0-rmse:0.02439\n",
      "[512]\tvalidation_0-rmse:0.02439\n",
      "[513]\tvalidation_0-rmse:0.02438\n",
      "[514]\tvalidation_0-rmse:0.02437\n",
      "[515]\tvalidation_0-rmse:0.02437\n",
      "[516]\tvalidation_0-rmse:0.02437\n",
      "[517]\tvalidation_0-rmse:0.02437\n",
      "[518]\tvalidation_0-rmse:0.02436\n",
      "[519]\tvalidation_0-rmse:0.02436\n",
      "[520]\tvalidation_0-rmse:0.02435\n",
      "[521]\tvalidation_0-rmse:0.02435\n",
      "[522]\tvalidation_0-rmse:0.02434\n",
      "[523]\tvalidation_0-rmse:0.02434\n",
      "[524]\tvalidation_0-rmse:0.02433\n",
      "[525]\tvalidation_0-rmse:0.02433\n",
      "[526]\tvalidation_0-rmse:0.02432\n",
      "[527]\tvalidation_0-rmse:0.02432\n",
      "[528]\tvalidation_0-rmse:0.02432\n",
      "[529]\tvalidation_0-rmse:0.02431\n",
      "[530]\tvalidation_0-rmse:0.02431\n",
      "[531]\tvalidation_0-rmse:0.02430\n",
      "[532]\tvalidation_0-rmse:0.02430\n",
      "[533]\tvalidation_0-rmse:0.02429\n",
      "[534]\tvalidation_0-rmse:0.02429\n",
      "[535]\tvalidation_0-rmse:0.02429\n",
      "[536]\tvalidation_0-rmse:0.02428\n",
      "[537]\tvalidation_0-rmse:0.02428\n",
      "[538]\tvalidation_0-rmse:0.02427\n",
      "[539]\tvalidation_0-rmse:0.02427\n",
      "[540]\tvalidation_0-rmse:0.02426\n",
      "[541]\tvalidation_0-rmse:0.02426\n",
      "[542]\tvalidation_0-rmse:0.02426\n",
      "[543]\tvalidation_0-rmse:0.02425\n",
      "[544]\tvalidation_0-rmse:0.02425\n",
      "[545]\tvalidation_0-rmse:0.02425\n",
      "[546]\tvalidation_0-rmse:0.02424\n",
      "[547]\tvalidation_0-rmse:0.02424\n",
      "[548]\tvalidation_0-rmse:0.02424\n",
      "[549]\tvalidation_0-rmse:0.02424\n",
      "[550]\tvalidation_0-rmse:0.02423\n",
      "[551]\tvalidation_0-rmse:0.02423\n",
      "[552]\tvalidation_0-rmse:0.02423\n",
      "[553]\tvalidation_0-rmse:0.02423\n",
      "[554]\tvalidation_0-rmse:0.02422\n",
      "[555]\tvalidation_0-rmse:0.02422\n",
      "[556]\tvalidation_0-rmse:0.02422\n",
      "[557]\tvalidation_0-rmse:0.02422\n",
      "[558]\tvalidation_0-rmse:0.02421\n",
      "[559]\tvalidation_0-rmse:0.02421\n",
      "[560]\tvalidation_0-rmse:0.02421\n",
      "[561]\tvalidation_0-rmse:0.02421\n",
      "[562]\tvalidation_0-rmse:0.02420\n",
      "[563]\tvalidation_0-rmse:0.02420\n",
      "[564]\tvalidation_0-rmse:0.02420\n",
      "[565]\tvalidation_0-rmse:0.02420\n",
      "[566]\tvalidation_0-rmse:0.02419\n",
      "[567]\tvalidation_0-rmse:0.02419\n",
      "[568]\tvalidation_0-rmse:0.02419\n",
      "[569]\tvalidation_0-rmse:0.02419\n",
      "[570]\tvalidation_0-rmse:0.02418\n",
      "[571]\tvalidation_0-rmse:0.02418\n",
      "[572]\tvalidation_0-rmse:0.02418\n",
      "[573]\tvalidation_0-rmse:0.02418\n",
      "[574]\tvalidation_0-rmse:0.02417\n",
      "[575]\tvalidation_0-rmse:0.02417\n",
      "[576]\tvalidation_0-rmse:0.02417\n",
      "[577]\tvalidation_0-rmse:0.02417\n",
      "[578]\tvalidation_0-rmse:0.02417\n",
      "[579]\tvalidation_0-rmse:0.02416\n",
      "[580]\tvalidation_0-rmse:0.02416\n",
      "[581]\tvalidation_0-rmse:0.02416\n",
      "[582]\tvalidation_0-rmse:0.02416\n",
      "[583]\tvalidation_0-rmse:0.02415\n",
      "[584]\tvalidation_0-rmse:0.02415\n",
      "[585]\tvalidation_0-rmse:0.02415\n",
      "[586]\tvalidation_0-rmse:0.02415\n",
      "[587]\tvalidation_0-rmse:0.02415\n",
      "[588]\tvalidation_0-rmse:0.02415\n",
      "[589]\tvalidation_0-rmse:0.02415\n",
      "[590]\tvalidation_0-rmse:0.02415\n",
      "[591]\tvalidation_0-rmse:0.02415\n",
      "[592]\tvalidation_0-rmse:0.02414\n",
      "[593]\tvalidation_0-rmse:0.02414\n",
      "[594]\tvalidation_0-rmse:0.02414\n",
      "[595]\tvalidation_0-rmse:0.02414\n",
      "[596]\tvalidation_0-rmse:0.02414\n",
      "[597]\tvalidation_0-rmse:0.02414\n",
      "[598]\tvalidation_0-rmse:0.02413\n",
      "[599]\tvalidation_0-rmse:0.02413\n",
      "[600]\tvalidation_0-rmse:0.02413\n",
      "[601]\tvalidation_0-rmse:0.02413\n",
      "[602]\tvalidation_0-rmse:0.02413\n",
      "[603]\tvalidation_0-rmse:0.02413\n",
      "[604]\tvalidation_0-rmse:0.02413\n",
      "[605]\tvalidation_0-rmse:0.02412\n",
      "[606]\tvalidation_0-rmse:0.02413\n",
      "[607]\tvalidation_0-rmse:0.02412\n",
      "[608]\tvalidation_0-rmse:0.02412\n",
      "[609]\tvalidation_0-rmse:0.02412\n",
      "[610]\tvalidation_0-rmse:0.02412\n",
      "[611]\tvalidation_0-rmse:0.02412\n",
      "[612]\tvalidation_0-rmse:0.02412\n",
      "[613]\tvalidation_0-rmse:0.02412\n",
      "[614]\tvalidation_0-rmse:0.02412\n",
      "[615]\tvalidation_0-rmse:0.02412\n",
      "[616]\tvalidation_0-rmse:0.02411\n",
      "[617]\tvalidation_0-rmse:0.02411\n",
      "[618]\tvalidation_0-rmse:0.02411\n",
      "[619]\tvalidation_0-rmse:0.02411\n",
      "[620]\tvalidation_0-rmse:0.02411\n",
      "[621]\tvalidation_0-rmse:0.02411\n",
      "[622]\tvalidation_0-rmse:0.02411\n",
      "[623]\tvalidation_0-rmse:0.02411\n",
      "[624]\tvalidation_0-rmse:0.02411\n",
      "[625]\tvalidation_0-rmse:0.02411\n",
      "[626]\tvalidation_0-rmse:0.02411\n",
      "[627]\tvalidation_0-rmse:0.02411\n",
      "[628]\tvalidation_0-rmse:0.02411\n",
      "[629]\tvalidation_0-rmse:0.02411\n",
      "[630]\tvalidation_0-rmse:0.02410\n",
      "[631]\tvalidation_0-rmse:0.02410\n",
      "[632]\tvalidation_0-rmse:0.02410\n",
      "[633]\tvalidation_0-rmse:0.02410\n",
      "[634]\tvalidation_0-rmse:0.02410\n",
      "[635]\tvalidation_0-rmse:0.02410\n",
      "[636]\tvalidation_0-rmse:0.02410\n",
      "[637]\tvalidation_0-rmse:0.02410\n",
      "[638]\tvalidation_0-rmse:0.02409\n",
      "[639]\tvalidation_0-rmse:0.02409\n",
      "[640]\tvalidation_0-rmse:0.02409\n",
      "[641]\tvalidation_0-rmse:0.02409\n",
      "[642]\tvalidation_0-rmse:0.02409\n",
      "[643]\tvalidation_0-rmse:0.02409\n",
      "[644]\tvalidation_0-rmse:0.02409\n",
      "[645]\tvalidation_0-rmse:0.02409\n",
      "[646]\tvalidation_0-rmse:0.02409\n",
      "[647]\tvalidation_0-rmse:0.02409\n",
      "[648]\tvalidation_0-rmse:0.02409\n",
      "[649]\tvalidation_0-rmse:0.02409\n",
      "[650]\tvalidation_0-rmse:0.02409\n",
      "[651]\tvalidation_0-rmse:0.02409\n",
      "[652]\tvalidation_0-rmse:0.02409\n",
      "[653]\tvalidation_0-rmse:0.02409\n",
      "[654]\tvalidation_0-rmse:0.02409\n",
      "[655]\tvalidation_0-rmse:0.02408\n",
      "[656]\tvalidation_0-rmse:0.02408\n",
      "[657]\tvalidation_0-rmse:0.02408\n",
      "[658]\tvalidation_0-rmse:0.02408\n",
      "[659]\tvalidation_0-rmse:0.02408\n",
      "[660]\tvalidation_0-rmse:0.02408\n",
      "[661]\tvalidation_0-rmse:0.02408\n",
      "[662]\tvalidation_0-rmse:0.02408\n",
      "[663]\tvalidation_0-rmse:0.02408\n",
      "[664]\tvalidation_0-rmse:0.02408\n",
      "[665]\tvalidation_0-rmse:0.02408\n",
      "[666]\tvalidation_0-rmse:0.02408\n",
      "[667]\tvalidation_0-rmse:0.02408\n",
      "[668]\tvalidation_0-rmse:0.02408\n",
      "[669]\tvalidation_0-rmse:0.02408\n",
      "[670]\tvalidation_0-rmse:0.02407\n",
      "[671]\tvalidation_0-rmse:0.02407\n",
      "[672]\tvalidation_0-rmse:0.02407\n",
      "[673]\tvalidation_0-rmse:0.02407\n",
      "[674]\tvalidation_0-rmse:0.02407\n",
      "[675]\tvalidation_0-rmse:0.02407\n",
      "[676]\tvalidation_0-rmse:0.02407\n",
      "[677]\tvalidation_0-rmse:0.02407\n",
      "[678]\tvalidation_0-rmse:0.02407\n",
      "[679]\tvalidation_0-rmse:0.02407\n",
      "[680]\tvalidation_0-rmse:0.02407\n",
      "[681]\tvalidation_0-rmse:0.02407\n",
      "[682]\tvalidation_0-rmse:0.02407\n",
      "[683]\tvalidation_0-rmse:0.02407\n",
      "[684]\tvalidation_0-rmse:0.02407\n",
      "[685]\tvalidation_0-rmse:0.02407\n",
      "[686]\tvalidation_0-rmse:0.02407\n",
      "[687]\tvalidation_0-rmse:0.02407\n",
      "[688]\tvalidation_0-rmse:0.02407\n",
      "[689]\tvalidation_0-rmse:0.02407\n",
      "[690]\tvalidation_0-rmse:0.02407\n",
      "[691]\tvalidation_0-rmse:0.02407\n",
      "[692]\tvalidation_0-rmse:0.02407\n",
      "[693]\tvalidation_0-rmse:0.02407\n",
      "[694]\tvalidation_0-rmse:0.02407\n",
      "[695]\tvalidation_0-rmse:0.02407\n",
      "[696]\tvalidation_0-rmse:0.02407\n",
      "[697]\tvalidation_0-rmse:0.02406\n",
      "[698]\tvalidation_0-rmse:0.02407\n",
      "[699]\tvalidation_0-rmse:0.02407\n",
      "[700]\tvalidation_0-rmse:0.02407\n",
      "[701]\tvalidation_0-rmse:0.02406\n",
      "[702]\tvalidation_0-rmse:0.02406\n",
      "[703]\tvalidation_0-rmse:0.02406\n",
      "[704]\tvalidation_0-rmse:0.02406\n",
      "[705]\tvalidation_0-rmse:0.02406\n",
      "[706]\tvalidation_0-rmse:0.02406\n",
      "[707]\tvalidation_0-rmse:0.02406\n",
      "[708]\tvalidation_0-rmse:0.02406\n",
      "[709]\tvalidation_0-rmse:0.02406\n",
      "[710]\tvalidation_0-rmse:0.02406\n",
      "[711]\tvalidation_0-rmse:0.02406\n",
      "[712]\tvalidation_0-rmse:0.02406\n",
      "[713]\tvalidation_0-rmse:0.02406\n",
      "[714]\tvalidation_0-rmse:0.02406\n",
      "[715]\tvalidation_0-rmse:0.02406\n",
      "[716]\tvalidation_0-rmse:0.02406\n",
      "[717]\tvalidation_0-rmse:0.02406\n",
      "[718]\tvalidation_0-rmse:0.02406\n",
      "[719]\tvalidation_0-rmse:0.02406\n",
      "[720]\tvalidation_0-rmse:0.02406\n",
      "[721]\tvalidation_0-rmse:0.02406\n",
      "[722]\tvalidation_0-rmse:0.02406\n",
      "[723]\tvalidation_0-rmse:0.02406\n",
      "[724]\tvalidation_0-rmse:0.02406\n",
      "[725]\tvalidation_0-rmse:0.02406\n",
      "[726]\tvalidation_0-rmse:0.02406\n",
      "[727]\tvalidation_0-rmse:0.02406\n",
      "[728]\tvalidation_0-rmse:0.02406\n",
      "[729]\tvalidation_0-rmse:0.02406\n",
      "[730]\tvalidation_0-rmse:0.02406\n",
      "[731]\tvalidation_0-rmse:0.02405\n",
      "[732]\tvalidation_0-rmse:0.02405\n",
      "[733]\tvalidation_0-rmse:0.02405\n",
      "[734]\tvalidation_0-rmse:0.02405\n",
      "[735]\tvalidation_0-rmse:0.02405\n",
      "[736]\tvalidation_0-rmse:0.02406\n",
      "[737]\tvalidation_0-rmse:0.02406\n",
      "[738]\tvalidation_0-rmse:0.02406\n",
      "[739]\tvalidation_0-rmse:0.02406\n",
      "[740]\tvalidation_0-rmse:0.02406\n",
      "[741]\tvalidation_0-rmse:0.02406\n",
      "[742]\tvalidation_0-rmse:0.02406\n",
      "[743]\tvalidation_0-rmse:0.02406\n",
      "[744]\tvalidation_0-rmse:0.02406\n",
      "[745]\tvalidation_0-rmse:0.02406\n",
      "[746]\tvalidation_0-rmse:0.02406\n",
      "[747]\tvalidation_0-rmse:0.02406\n",
      "[748]\tvalidation_0-rmse:0.02406\n",
      "[749]\tvalidation_0-rmse:0.02406\n",
      "[750]\tvalidation_0-rmse:0.02406\n",
      "[751]\tvalidation_0-rmse:0.02406\n"
     ]
    },
    {
     "data": {
      "text/plain": [
       "57"
      ]
     },
     "execution_count": 40,
     "metadata": {},
     "output_type": "execute_result"
    }
   ],
   "source": [
    "model = xgb.XGBRegressor(\n",
    "    n_estimators=800,\n",
    "    max_depth=16,\n",
    "    learning_rate=0.01,\n",
    "    subsample=0.5,\n",
    "    colsample_bytree=0.75,\n",
    "    missing=-999,\n",
    "    random_state=2020,\n",
    "    tree_method='gpu_hist', # THE MAGICAL PARAMETER\n",
    "    enable_categorical=True\n",
    "    )\n",
    "model.fit(X_train, y_train, early_stopping_rounds=20, eval_set=[(X_test, y_test)], verbose=1)\n",
    "gc.collect()"
   ]
  },
  {
   "cell_type": "markdown",
   "id": "1b209d27",
   "metadata": {
    "papermill": {
     "duration": 0.268484,
     "end_time": "2022-05-30T20:58:23.551533",
     "exception": false,
     "start_time": "2022-05-30T20:58:23.283049",
     "status": "completed"
    },
    "tags": []
   },
   "source": [
    "predict the target value for test data"
   ]
  },
  {
   "cell_type": "code",
   "execution_count": 41,
   "id": "686d95d5",
   "metadata": {
    "execution": {
     "iopub.execute_input": "2022-05-30T20:58:24.113890Z",
     "iopub.status.busy": "2022-05-30T20:58:24.113034Z",
     "iopub.status.idle": "2022-05-30T20:58:24.115027Z",
     "shell.execute_reply": "2022-05-30T20:58:24.115428Z",
     "shell.execute_reply.started": "2022-05-30T20:38:30.016804Z"
    },
    "papermill": {
     "duration": 0.28128,
     "end_time": "2022-05-30T20:58:24.115575",
     "exception": false,
     "start_time": "2022-05-30T20:58:23.834295",
     "status": "completed"
    },
    "tags": []
   },
   "outputs": [],
   "source": [
    "env = jpx_tokyo_market_prediction.make_env()\n",
    "iter_test = env.iter_test()"
   ]
  },
  {
   "cell_type": "code",
   "execution_count": 42,
   "id": "0daf4946",
   "metadata": {
    "execution": {
     "iopub.execute_input": "2022-05-30T20:58:24.684246Z",
     "iopub.status.busy": "2022-05-30T20:58:24.683420Z",
     "iopub.status.idle": "2022-05-30T20:58:48.175420Z",
     "shell.execute_reply": "2022-05-30T20:58:48.175847Z",
     "shell.execute_reply.started": "2022-05-30T20:38:32.914253Z"
    },
    "papermill": {
     "duration": 23.774689,
     "end_time": "2022-05-30T20:58:48.176011",
     "exception": false,
     "start_time": "2022-05-30T20:58:24.401322",
     "status": "completed"
    },
    "tags": []
   },
   "outputs": [
    {
     "name": "stdout",
     "output_type": "stream",
     "text": [
      "This version of the API is not optimized and should not be used to estimate the runtime of your code on the hidden test set.\n",
      "<class 'pandas.core.frame.DataFrame'>\n",
      "RangeIndex: 2000 entries, 0 to 1999\n",
      "Data columns (total 9 columns):\n",
      " #   Column            Non-Null Count  Dtype  \n",
      "---  ------            --------------  -----  \n",
      " 0   Date              2000 non-null   object \n",
      " 1   SecuritiesCode    2000 non-null   int64  \n",
      " 2   Open              1994 non-null   float64\n",
      " 3   High              1994 non-null   float64\n",
      " 4   Low               1994 non-null   float64\n",
      " 5   Close             1994 non-null   float64\n",
      " 6   Volume            2000 non-null   int64  \n",
      " 7   AdjustmentFactor  2000 non-null   float64\n",
      " 8   SupervisionFlag   2000 non-null   bool   \n",
      "dtypes: bool(1), float64(5), int64(2), object(1)\n",
      "memory usage: 127.1+ KB\n",
      "None\n",
      "         Date  SecuritiesCode    Open    High     Low   Close   Volume  \\\n",
      "0  2021-12-06            1301  2982.0  2982.0  2965.0  2971.0     8900   \n",
      "1  2021-12-06            1332   592.0   599.0   588.0   589.0  1360800   \n",
      "2  2021-12-06            1333  2368.0  2388.0  2360.0  2377.0   125900   \n",
      "3  2021-12-06            1375  1230.0  1239.0  1224.0  1224.0    81100   \n",
      "4  2021-12-06            1376  1339.0  1372.0  1339.0  1351.0     6200   \n",
      "5  2021-12-06            1377  3185.0  3215.0  3180.0  3200.0    77000   \n",
      "6  2021-12-06            1379  1890.0  1898.0  1885.0  1889.0    48500   \n",
      "7  2021-12-06            1381  3200.0  3200.0  3150.0  3150.0     1600   \n",
      "8  2021-12-06            1407  6100.0  6290.0  6010.0  6220.0   246700   \n",
      "9  2021-12-06            1413  2185.0  2211.0  2181.0  2190.0     9200   \n",
      "\n",
      "   AdjustmentFactor  SupervisionFlag  \n",
      "0               1.0            False  \n",
      "1               1.0            False  \n",
      "2               1.0            False  \n",
      "3               1.0            False  \n",
      "4               1.0            False  \n",
      "5               1.0            False  \n",
      "6               1.0            False  \n",
      "7               1.0            False  \n",
      "8               1.0            False  \n",
      "9               1.0            False  \n",
      "<class 'pandas.core.frame.DataFrame'>\n",
      "RangeIndex: 2000 entries, 0 to 1999\n",
      "Data columns (total 9 columns):\n",
      " #   Column            Non-Null Count  Dtype  \n",
      "---  ------            --------------  -----  \n",
      " 0   Date              2000 non-null   object \n",
      " 1   SecuritiesCode    2000 non-null   int64  \n",
      " 2   Open              1996 non-null   float64\n",
      " 3   High              1996 non-null   float64\n",
      " 4   Low               1996 non-null   float64\n",
      " 5   Close             1996 non-null   float64\n",
      " 6   Volume            2000 non-null   int64  \n",
      " 7   AdjustmentFactor  2000 non-null   float64\n",
      " 8   SupervisionFlag   2000 non-null   bool   \n",
      "dtypes: bool(1), float64(5), int64(2), object(1)\n",
      "memory usage: 127.1+ KB\n",
      "None\n",
      "         Date  SecuritiesCode    Open    High     Low   Close   Volume  \\\n",
      "0  2021-12-07            1301  2998.0  3065.0  2990.0  3065.0    19100   \n",
      "1  2021-12-07            1332   569.0   569.0   535.0   556.0  6449200   \n",
      "2  2021-12-07            1333  2382.0  2417.0  2371.0  2409.0   127300   \n",
      "3  2021-12-07            1375  1227.0  1266.0  1227.0  1264.0   128600   \n",
      "4  2021-12-07            1376  1374.0  1395.0  1366.0  1395.0     5800   \n",
      "5  2021-12-07            1377  3250.0  3295.0  3220.0  3285.0    80700   \n",
      "6  2021-12-07            1379  1900.0  1931.0  1893.0  1925.0    72200   \n",
      "7  2021-12-07            1381  3175.0  3185.0  3145.0  3165.0     1000   \n",
      "8  2021-12-07            1407  6140.0  6370.0  6110.0  6340.0   217500   \n",
      "9  2021-12-07            1413  2217.0  2250.0  2204.0  2250.0    11300   \n",
      "\n",
      "   AdjustmentFactor  SupervisionFlag  \n",
      "0               1.0            False  \n",
      "1               1.0            False  \n",
      "2               1.0            False  \n",
      "3               1.0            False  \n",
      "4               1.0            False  \n",
      "5               1.0            False  \n",
      "6               1.0            False  \n",
      "7               1.0            False  \n",
      "8               1.0            False  \n",
      "9               1.0            False  \n"
     ]
    }
   ],
   "source": [
    "for (df_test, options, financials, trades, secondary_prices, df_pred) in iter_test:\n",
    "    df_test=df_test.drop(['RowId','ExpectedDividend'],axis=1)\n",
    "    print(df_test.info())\n",
    "    print(df_test.head(10))\n",
    "    x_test = featuring(df_test)\n",
    "\n",
    "    y_pred = model.predict(x_test)\n",
    "    df_pred['Target'] = y_pred\n",
    "    df_pred = df_pred.sort_values(by = \"Target\", ascending = False)\n",
    "    df_pred['Rank'] = np.arange(len(df_pred.index))\n",
    "    df_pred = df_pred.sort_values(by = \"SecuritiesCode\", ascending = True)\n",
    "    df_pred.drop([\"Target\"], axis = 1)\n",
    "    submission = df_pred[[\"Date\", \"SecuritiesCode\", \"Rank\"]]    \n",
    "    env.predict(submission)"
   ]
  },
  {
   "cell_type": "code",
   "execution_count": 43,
   "id": "55a80681",
   "metadata": {
    "execution": {
     "iopub.execute_input": "2022-05-30T20:58:48.724167Z",
     "iopub.status.busy": "2022-05-30T20:58:48.723435Z",
     "iopub.status.idle": "2022-05-30T20:58:49.264386Z",
     "shell.execute_reply": "2022-05-30T20:58:49.264816Z",
     "shell.execute_reply.started": "2022-05-30T20:40:58.342916Z"
    },
    "papermill": {
     "duration": 0.816663,
     "end_time": "2022-05-30T20:58:49.264965",
     "exception": false,
     "start_time": "2022-05-30T20:58:48.448302",
     "status": "completed"
    },
    "tags": []
   },
   "outputs": [
    {
     "data": {
      "text/plain": [
       "<Figure size 12000x12000 with 0 Axes>"
      ]
     },
     "metadata": {},
     "output_type": "display_data"
    },
    {
     "data": {
      "image/png": "[encoded data removed]",
      "text/plain": [
       "<Figure size 432x288 with 1 Axes>"
      ]
     },
     "metadata": {
      "needs_background": "light"
     },
     "output_type": "display_data"
    }
   ],
   "source": [
    "from xgboost import plot_importance\n",
    "from matplotlib import pyplot\n",
    "from matplotlib.pyplot import figure\n",
    "\n",
    "figure(figsize=(80, 80), dpi=150)\n",
    "plot_importance(model)\n",
    "pyplot.show()"
   ]
  },
  {
   "cell_type": "code",
   "execution_count": null,
   "id": "4aba5c6d",
   "metadata": {
    "papermill": {
     "duration": 0.380776,
     "end_time": "2022-05-30T20:58:50.069247",
     "exception": false,
     "start_time": "2022-05-30T20:58:49.688471",
     "status": "completed"
    },
    "tags": []
   },
   "outputs": [],
   "source": []
  }
 ],
 "metadata": {
  "kernelspec": {
   "display_name": "Python 3",
   "language": "python",
   "name": "python3"
  },
  "language_info": {
   "codemirror_mode": {
    "name": "ipython",
    "version": 3
   },
   "file_extension": ".py",
   "mimetype": "text/x-python",
   "name": "python",
   "nbconvert_exporter": "python",
   "pygments_lexer": "ipython3",
   "version": "3.7.12"
  },
  "papermill": {
   "default_parameters": {},
   "duration": 1035.892049,
   "end_time": "2022-05-30T20:58:52.706745",
   "environment_variables": {},
   "exception": null,
   "input_path": "__notebook__.ipynb",
   "output_path": "__notebook__.ipynb",
   "parameters": {},
   "start_time": "2022-05-30T20:41:36.814696",
   "version": "2.3.3"
  }
 },
 "nbformat": 4,
 "nbformat_minor": 5
}
